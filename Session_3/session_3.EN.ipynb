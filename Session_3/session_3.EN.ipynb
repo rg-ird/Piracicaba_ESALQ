{
 "cells": [
  {
   "cell_type": "markdown",
   "metadata": {},
   "source": [
    "# SESSION_3"
   ]
  },
  {
   "cell_type": "markdown",
   "metadata": {},
   "source": [
    "Prerequisites: In a terminal, You need to create, install biopython and activate the `Conda` env as follow before to start jupyter"
   ]
  },
  {
   "cell_type": "markdown",
   "metadata": {},
   "source": [
    "**We will create a new env called curso_3**"
   ]
  },
  {
   "cell_type": "markdown",
   "metadata": {},
   "source": [
    "!conda create --name curso_3"
   ]
  },
  {
   "cell_type": "markdown",
   "metadata": {},
   "source": [
    "!conda install -y -n curso_3 -c bioconda gepard miniasm minimap2 flye raven-assembler jupyter pandas wget shasta canu"
   ]
  },
  {
   "cell_type": "markdown",
   "metadata": {},
   "source": [
    "!conda activate curso_3"
   ]
  },
  {
   "cell_type": "markdown",
   "metadata": {},
   "source": [
    "!jupyter notebook &"
   ]
  },
  {
   "cell_type": "markdown",
   "metadata": {},
   "source": [
    "# Genome assemblies "
   ]
  },
  {
   "cell_type": "markdown",
   "metadata": {},
   "source": [
    "In this part we will assemble a B. subtilis genome using different tools:  \n",
    "    `Miniasm`,  \n",
    "    `Flye`,  \n",
    "    `Raven`,  \n",
    "    `Canu`,  \n",
    "    `Shasta`,... into others"
   ]
  },
  {
   "cell_type": "markdown",
   "metadata": {},
   "source": [
    "# Genome assembly with Minimap2 and Miniasm"
   ]
  },
  {
   "cell_type": "code",
   "execution_count": null,
   "metadata": {},
   "outputs": [],
   "source": [
    "!minimap2"
   ]
  },
  {
   "cell_type": "code",
   "execution_count": null,
   "metadata": {},
   "outputs": [],
   "source": [
    "!miniasm"
   ]
  },
  {
   "cell_type": "markdown",
   "metadata": {},
   "source": [
    "The `minimap2-miniasm` pipeline is an very fast and memory efficient way of assembling Long-Read data. However, it has several characteristics that differ from other assemblers:\n",
    "\n",
    "`Miniasm` outputs unitigs not contigs.  \n",
    "Unitigs are unique parts in the `assembly grap`. This means all reads in your data “agree” on this part of the assembly. One could say they are high-confidence contigs. In contrast, contigs may include regions with ambiguous read information, depending on the algorithm used. As a result unitigs can be shorter and the miniasm assemblies more fragmented.\n",
    "**`Miniasm` does not build a consensus sequence of the assembly. Thus, the error rate of the resulting unitigs is approximately the same as the error rate of the raw reads`Miniasm` does not build a consensus sequence of the assembly. Thus, the error rate of the resulting unitigs is approximately the same as the error rate of the raw reads.**  \n",
    "\n",
    "(see https://timkahlke.github.io/LongRead_tutorials/ASS_M.html).    \n",
    "(see https://doi.org/10.1093/bioinformatics/btw152)."
   ]
  },
  {
   "cell_type": "markdown",
   "metadata": {},
   "source": [
    "Lets find all overlaps between reads from initial Bacillus subtilis dataset using minimap2. Minimap2 does this in the similar way it maps reads to the reference. It concatenates reads from the dataset in a single sequence, it indexes the concatenated sequence, and then it maps every read to that concatenated sequence."
   ]
  },
  {
   "cell_type": "code",
   "execution_count": null,
   "metadata": {},
   "outputs": [],
   "source": [
    "!minimap2 \\\n",
    "    -t 4 \\\n",
    "    -x ava-ont \\\n",
    "    -o data/bacillus_subtilis/bs_reads_to_reads.paf \\\n",
    "    data/bacillus_subtilis/bs_reads.fastq \\\n",
    "    data/bacillus_subtilis/bs_reads.fastq"
   ]
  },
  {
   "cell_type": "code",
   "execution_count": null,
   "metadata": {},
   "outputs": [],
   "source": [
    "import pandas\n",
    "paf = pandas.read_csv('data/bacillus_subtilis/bs_reads_to_reads.paf', header = None, delimiter = '\\t')\n",
    "paf.drop_duplicates(subset = 0, keep = 'first', inplace = True)\n",
    "paf"
   ]
  },
  {
   "cell_type": "code",
   "execution_count": null,
   "metadata": {},
   "outputs": [],
   "source": [
    "!miniasm -f data/bacillus_subtilis/bs_reads.fastq \\\n",
    " data/bacillus_subtilis/bs_reads_to_reads.paf > bs_assembly_miniasm.gfa"
   ]
  },
  {
   "cell_type": "markdown",
   "metadata": {},
   "source": [
    "The results of the assembly if in the [`GFA` format](https://github.com/GFA-spec/GFA-spec)"
   ]
  },
  {
   "cell_type": "code",
   "execution_count": null,
   "metadata": {
    "scrolled": true
   },
   "outputs": [],
   "source": [
    "!head -n 1 bs_assembly_miniasm.gfa"
   ]
  },
  {
   "cell_type": "code",
   "execution_count": null,
   "metadata": {},
   "outputs": [],
   "source": [
    "!tail -n 10 bs_assembly_miniasm.gfa"
   ]
  },
  {
   "cell_type": "markdown",
   "metadata": {},
   "source": [
    "We can see that miniasm was able to produce only one unitig (path of the assembly graph without external edges) which has similar length to the reference genome.  \n",
    "We can draw the assembly graph in Bandage, which can be run both in command line and as a GUI. We will see that the graph lacks circularisation as miniasm does not support this. (https://towardsdatascience.com/visualising-assembly-graphs-fb631f46bbd1)"
   ]
  },
  {
   "cell_type": "markdown",
   "metadata": {},
   "source": [
    " [`Bandage`](http://rrwick.github.io/Bandage/)"
   ]
  },
  {
   "cell_type": "code",
   "execution_count": null,
   "metadata": {
    "scrolled": true
   },
   "outputs": [],
   "source": [
    "!wget https://github.com/rrwick/Bandage/releases/download/v0.8.1/Bandage_Ubuntu_dynamic_v0_8_1.zip"
   ]
  },
  {
   "cell_type": "code",
   "execution_count": null,
   "metadata": {},
   "outputs": [],
   "source": [
    "!unzip Bandage_Ubuntu_dynamic_v0_8_1.zip"
   ]
  },
  {
   "cell_type": "code",
   "execution_count": null,
   "metadata": {},
   "outputs": [],
   "source": [
    "!Bandage_Ubuntu_dynamic_v0_8_1/Bandage"
   ]
  },
  {
   "cell_type": "markdown",
   "metadata": {},
   "source": [
    "In order to validate the sequence we got from `miniasm`, we can align it to the reference and visualize the alignment with Gepard.   \n",
    "Extracting unitigs from the GFA format can be done with the l$following command."
   ]
  },
  {
   "cell_type": "code",
   "execution_count": null,
   "metadata": {},
   "outputs": [],
   "source": [
    "!awk '/^S/{print \">\"$2\"\\n\"$3}' bs_assembly_miniasm.gfa > bs_assembly_miniasm.fasta"
   ]
  },
  {
   "cell_type": "code",
   "execution_count": null,
   "metadata": {},
   "outputs": [],
   "source": [
    "!gepard"
   ]
  },
  {
   "cell_type": "markdown",
   "metadata": {},
   "source": [
    "Align data/bacillus_subtilis/bs_ref.fasta with bs_assembly_miniasm.fasta"
   ]
  },
  {
   "cell_type": "markdown",
   "metadata": {},
   "source": [
    "Save the image as bs_assembly_miniasm_gepard_vs_ref.png"
   ]
  },
  {
   "cell_type": "code",
   "execution_count": null,
   "metadata": {},
   "outputs": [],
   "source": [
    "from IPython.display import Image\n",
    "Image(\"bs_assembly_miniasm_gepard_vs_ref.png\")"
   ]
  },
  {
   "cell_type": "markdown",
   "metadata": {},
   "source": [
    "`Miniasm` is a great long-read assembly tool: straight-forward, effective and very fast.  \n",
    "**However, it does not include a polishing step (Polishing: workflow in which assembly software searches for local misassemblies and other inconsistencies in a draft genome assembly and then corrects them), so its assemblies have a high error rate – they are essentially made of stitched-together pieces of long reads**. \n",
    "[`Minipolish`](https://github.com/rrwick/Minipolish) can be used to polish GFA graph produced by `Miniasm`."
   ]
  },
  {
   "cell_type": "markdown",
   "metadata": {},
   "source": [
    "# GENOME ASSEMBLY WITH `FLYE`"
   ]
  },
  {
   "cell_type": "markdown",
   "metadata": {},
   "source": [
    "`Flye` is a de novo assembler for single-molecule sequencing reads, such as those produced by PacBio and Oxford Nanopore Technologies. It is designed for a wide range of datasets, from small bacterial projects to large mammalian-scale assemblies. The package represents a complete pipeline: it takes raw PacBio / ONT reads as input and outputs polished contigs. Flye also has a special mode for metagenome assembly.\n",
    "\n",
    "Currently, `Flye` will produce collapsed assemblies of diploid genomes, represented by a single mosaic haplotype. To recover two phased haplotypes consider applying HapDup after the assembly.  \n",
    "\n",
    "(see https://github.com/fenderglass/Flye).  \n",
    "(see doi:10.1038/s41587-019-0072-8).  "
   ]
  },
  {
   "cell_type": "code",
   "execution_count": null,
   "metadata": {},
   "outputs": [],
   "source": [
    "from IPython.display import YouTubeVideo\n",
    "\n",
    "YouTubeVideo('DKSuYPFHAWU', 560, 315) "
   ]
  },
  {
   "cell_type": "code",
   "execution_count": null,
   "metadata": {},
   "outputs": [],
   "source": [
    "from IPython.display import Image\n",
    "Image(url = \"https://media.springernature.com/m312/springer-static/image/art%3A10.1038%2Fs41587-019-0072-8/MediaObjects/41587_2019_72_Fig1_HTML.png?as=webp\")"
   ]
  },
  {
   "cell_type": "code",
   "execution_count": null,
   "metadata": {},
   "outputs": [],
   "source": [
    "!flye"
   ]
  },
  {
   "cell_type": "code",
   "execution_count": null,
   "metadata": {},
   "outputs": [],
   "source": [
    "!flye --nano-raw data/bacillus_subtilis/bs_reads.fastq --genome-size 4000000 --out-dir FLYE"
   ]
  },
  {
   "cell_type": "code",
   "execution_count": null,
   "metadata": {},
   "outputs": [],
   "source": [
    "!ls"
   ]
  },
  {
   "cell_type": "markdown",
   "metadata": {},
   "source": [
    "Open the assembly of flye with Bandage"
   ]
  },
  {
   "cell_type": "markdown",
   "metadata": {},
   "source": [
    "# GENOME ASSEMBLY WITH `RAVEN`"
   ]
  },
  {
   "cell_type": "markdown",
   "metadata": {},
   "source": [
    "[`Raven`](https://github.com/lbcb-sci/raven) is a de novo genome assembler for long uncorrected reads. It implements the assembly graph and the corresponding simplification methods (except for short overlap removal).\n"
   ]
  },
  {
   "cell_type": "code",
   "execution_count": null,
   "metadata": {},
   "outputs": [],
   "source": [
    "!raven"
   ]
  },
  {
   "cell_type": "markdown",
   "metadata": {},
   "source": [
    "`Raven` is a complete OLC assembler which takes as input only a set of third generation sequences. For this demo it omits the consensus phase (number of polishing rounds set to 0 as default) and has an additional parameter called `--step` which enables different level of preprocessing/postprocessing functions. It will additionally output the state of the assembly graph after each modification. The state of the graph at the end of the layout phase will be stored in `<dataset_name>_final.gfa` while the untigis will be printed to stdout. Lets run it without pre/post processing."
   ]
  },
  {
   "cell_type": "code",
   "execution_count": null,
   "metadata": {},
   "outputs": [],
   "source": [
    "!raven -t 4 -p 0 data/bacillus_subtilis/bs_reads.fastq --graphical-fragment-assembly bs_assembly_raven.gfa > bs_assembly_raven.fasta"
   ]
  },
  {
   "cell_type": "code",
   "execution_count": null,
   "metadata": {},
   "outputs": [],
   "source": [
    "!ls"
   ]
  },
  {
   "cell_type": "code",
   "execution_count": null,
   "metadata": {},
   "outputs": [],
   "source": [
    "!tail -n 10 bs_assembly_raven.gfa"
   ]
  },
  {
   "cell_type": "markdown",
   "metadata": {},
   "source": [
    "The assembly can be checked with `Bandage`."
   ]
  },
  {
   "cell_type": "markdown",
   "metadata": {},
   "source": [
    "Running raven with chimeric resolution helps in reconstructing the whole bacterial genome in one circular contig."
   ]
  },
  {
   "cell_type": "code",
   "execution_count": null,
   "metadata": {},
   "outputs": [],
   "source": [
    "!raven -t 4 -p 2 data/bacillus_subtilis/bs_reads.fastq --graphical-fragment-assembly bs_assembly_raven-p2.gfa> bs_assembly_raven_final-p2.fasta"
   ]
  },
  {
   "cell_type": "code",
   "execution_count": null,
   "metadata": {},
   "outputs": [],
   "source": [
    "!gepard"
   ]
  },
  {
   "cell_type": "markdown",
   "metadata": {},
   "source": [
    "# OTHERS TOOLS "
   ]
  },
  {
   "cell_type": "markdown",
   "metadata": {},
   "source": [
    "`CANU`\n",
    "\n",
    "`Canu` is a fork of the Celera Assembler, designed for high-noise single-molecule sequencing (such as the PacBio RS II/Sequel or Oxford Nanopore MinION).\n",
    "\n",
    "\n",
    "The Canu Assembler has three steps:  \n",
    "-Correct (-correct).  \n",
    "-Trim (-trim).  \n",
    "-Assemble (-assemble).  \n",
    "  \n",
    "\n",
    "(see https://github.com/marbl/canu).  \n",
    "(see http://canu.readthedocs.org/en/latest/)\n",
    "\n",
    "**Canu is very slow, so may be don't run it during the course**"
   ]
  },
  {
   "cell_type": "code",
   "execution_count": null,
   "metadata": {},
   "outputs": [],
   "source": [
    "from IPython.display import Image\n",
    "Image(url = \"https://genome.cshlp.org/content/27/5/722/F1.large.jpg\")"
   ]
  },
  {
   "cell_type": "code",
   "execution_count": null,
   "metadata": {},
   "outputs": [],
   "source": [
    "!canu"
   ]
  },
  {
   "cell_type": "markdown",
   "metadata": {},
   "source": [
    "**step 1 correction of nanopore reads**\n",
    "The correction stage selects the best overlaps to use for correction, estimates corrected read lengths, and generates corrected reads"
   ]
  },
  {
   "cell_type": "code",
   "execution_count": null,
   "metadata": {},
   "outputs": [],
   "source": [
    "!canu -correct -p bs_assembly_canu genomeSize=4M -nanopore data/bacillus_subtilis/bs_reads.fastq"
   ]
  },
  {
   "cell_type": "markdown",
   "metadata": {},
   "source": [
    "**step 2 trimming & assemble**\n",
    "The trimming stage identifies unsupported regions in the input and trims or splits reads to their longest supported range. The assembly stage makes a final pass to identify sequencing errors; constructs the best overlap graph; and outputs contigs, an assembly graph, and summary statistic"
   ]
  },
  {
   "cell_type": "code",
   "execution_count": null,
   "metadata": {},
   "outputs": [],
   "source": [
    "!canu -trim-assemble -p bs_assembly_canu genomeSize=4M -nanopore-corrected bs_assembly_canu.correctedReads.fasta.gz"
   ]
  },
  {
   "cell_type": "markdown",
   "metadata": {},
   "source": [
    "_______________________________________________________________________________________"
   ]
  },
  {
   "cell_type": "markdown",
   "metadata": {},
   "source": [
    "# OTHERS TOOLS"
   ]
  },
  {
   "cell_type": "markdown",
   "metadata": {},
   "source": [
    "`SHASTA`\n",
    "https://github.com/chanzuckerberg/shasta\n",
    "The goal of Shasta is to rapidly produce accurate assembled sequence using as input DNA reads generated by Oxford Nanopore flow cells.\n",
    "Computational methods used by the `Shasta` assembler include:\n",
    "Using a run-length representation of the read sequence. This makes the assembly process more resilient to errors in homopolymer repeat counts, which are the most common type of errors in Oxford Nanopore reads.\n",
    "Using in some phases of the computation a representation of the read sequence based on markers, a fixed subset of short k-mers (k ≈ 10)."
   ]
  },
  {
   "cell_type": "markdown",
   "metadata": {},
   "source": [
    "**Shasta use FASTA sequence as Input**"
   ]
  },
  {
   "cell_type": "markdown",
   "metadata": {},
   "source": [
    "first convert fastq to fasta"
   ]
  },
  {
   "cell_type": "code",
   "execution_count": null,
   "metadata": {},
   "outputs": [],
   "source": [
    "!seqtk seq -a bs_reads.fastq.gz > bs_reads.fasta"
   ]
  },
  {
   "cell_type": "code",
   "execution_count": null,
   "metadata": {},
   "outputs": [],
   "source": [
    "!shasta"
   ]
  },
  {
   "cell_type": "code",
   "execution_count": null,
   "metadata": {},
   "outputs": [],
   "source": [
    "shasta --input bs_assembly_canu.trimmedReads.fasta --assemblyDirectory SHASTA_CANU --command assemble"
   ]
  },
  {
   "cell_type": "markdown",
   "metadata": {},
   "source": [
    "**For more information about performance of de novo assembler please see**:  https://www.frontiersin.org/articles/10.3389/fcimb.2021.696669/full "
   ]
  },
  {
   "cell_type": "code",
   "execution_count": null,
   "metadata": {},
   "outputs": [],
   "source": [
    "from IPython.display import Image\n",
    "Image(\"https://www.frontiersin.org/files/Articles/696669/fcimb-11-696669-HTML-r1/image_m/fcimb-11-696669-g001.jpg\")\n"
   ]
  },
  {
   "cell_type": "code",
   "execution_count": null,
   "metadata": {},
   "outputs": [],
   "source": [
    "from IPython.display import Image\n",
    "Image(\"https://www.frontiersin.org/files/Articles/696669/fcimb-11-696669-HTML-r1/image_m/fcimb-11-696669-t002.jpg\")"
   ]
  },
  {
   "cell_type": "code",
   "execution_count": null,
   "metadata": {},
   "outputs": [],
   "source": [
    "from IPython.display import Image\n",
    "Image(\"https://www.frontiersin.org/files/Articles/696669/fcimb-11-696669-HTML-r1/image_m/fcimb-11-696669-g002.jpg\")"
   ]
  },
  {
   "cell_type": "code",
   "execution_count": null,
   "metadata": {},
   "outputs": [],
   "source": [
    "from IPython.display import Image\n",
    "Image(\"https://www.frontiersin.org/files/Articles/696669/fcimb-11-696669-HTML-r1/image_m/fcimb-11-696669-g003.jpg\")"
   ]
  },
  {
   "cell_type": "markdown",
   "metadata": {},
   "source": [
    "___________________________________________________________________________________"
   ]
  },
  {
   "cell_type": "markdown",
   "metadata": {},
   "source": [
    "**RESULTS**"
   ]
  },
  {
   "cell_type": "code",
   "execution_count": null,
   "metadata": {},
   "outputs": [],
   "source": [
    "Complete the table below :"
   ]
  },
  {
   "cell_type": "markdown",
   "metadata": {},
   "source": [
    "|Assembly Tools| Raw reads | Corrected reads| Assembly File name | Polishing tools | Polished File name | \n",
    "|---|---|---|---|---|---|\n",
    "| Minimap/Miniasm| x| | | | |\n",
    "| Flye| x| | | | |\n",
    "| Flye/Canu| | x| | | |\n",
    "| Raven| x| | | | |\n",
    "| Raven/Canu| | x| | | |\n",
    "| Canu| | x| | | |\n",
    "| Shasta| x| | | | |\n",
    "| Shasta/Canu| | x| | | |\n",
    "| | | | | | |\n",
    "| | | | | |  |"
   ]
  },
  {
   "cell_type": "code",
   "execution_count": null,
   "metadata": {},
   "outputs": [],
   "source": []
  }
 ],
 "metadata": {
  "kernelspec": {
   "display_name": "Python 3 (ipykernel)",
   "language": "python",
   "name": "python3"
  },
  "language_info": {
   "codemirror_mode": {
    "name": "ipython",
    "version": 3
   },
   "file_extension": ".py",
   "mimetype": "text/x-python",
   "name": "python",
   "nbconvert_exporter": "python",
   "pygments_lexer": "ipython3",
   "version": "3.10.9"
  }
 },
 "nbformat": 4,
 "nbformat_minor": 4
}
