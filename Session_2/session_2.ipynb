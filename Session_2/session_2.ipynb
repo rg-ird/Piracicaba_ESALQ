{
 "cells": [
  {
   "cell_type": "markdown",
   "metadata": {},
   "source": [
    "# SESSION_2"
   ]
  },
  {
   "cell_type": "markdown",
   "metadata": {},
   "source": [
    "**We will use the env curso_1 from session_1**"
   ]
  },
  {
   "cell_type": "markdown",
   "metadata": {},
   "source": [
    "!conda install -y -n curso_1 -c bioconda seqtk minimap2 nanoq"
   ]
  },
  {
   "cell_type": "markdown",
   "metadata": {},
   "source": [
    "!conda activate curso_1"
   ]
  },
  {
   "cell_type": "markdown",
   "metadata": {},
   "source": [
    "Prerequisites: **In a terminal**, You need to create, install biopython and activate the `Conda` env as follow before to start jupyter"
   ]
  },
  {
   "cell_type": "markdown",
   "metadata": {},
   "source": [
    "!jupyter notebook &"
   ]
  },
  {
   "cell_type": "markdown",
   "metadata": {},
   "source": [
    "Download the data bs_reads.fastq.gz here (https://filesender.renater.fr/?s=download&token=8289d781-f8d1-4155-8ff9-f4d494dc3f38) before and put the file in the Session_2/data/bacillus_subtilis directory. "
   ]
  },
  {
   "cell_type": "markdown",
   "metadata": {},
   "source": [
    "# Quality control of fastq reads"
   ]
  },
  {
   "cell_type": "markdown",
   "metadata": {},
   "source": [
    "How many bases have been sequenced and basecalled ? Use seqtk.  \n",
    "[Seqtk](https://github.com/lh3/seqtk) is a fast and lightweight tool for processing sequences in the FASTA or FASTQ format. It seamlessly parses both FASTA and FASTQ files which can also be optionally compressed by gzip "
   ]
  },
  {
   "cell_type": "code",
   "execution_count": 1,
   "metadata": {},
   "outputs": [
    {
     "name": "stdout",
     "output_type": "stream",
     "text": [
      "/bin/bash: seqtk: command not found\r\n",
      "       0\r\n"
     ]
    }
   ],
   "source": [
    "!seqtk seq -A data/bacillus_subtilis/bs_reads.fastq.gz | grep -v \">\" |wc -m"
   ]
  },
  {
   "cell_type": "markdown",
   "metadata": {},
   "source": [
    " Quality Control of FASTQ with [nanoq](https://www.theoj.org/joss-papers/joss.02991/10.21105.joss.02991.pdf)"
   ]
  },
  {
   "cell_type": "code",
   "execution_count": null,
   "metadata": {},
   "outputs": [],
   "source": [
    "!nanoq -h"
   ]
  },
  {
   "cell_type": "code",
   "execution_count": null,
   "metadata": {},
   "outputs": [],
   "source": [
    "!nanoq -i data/bacillus_subtilis/bs_reads.fastq.gz -r out_nanoq.txt -s -H"
   ]
  },
  {
   "cell_type": "code",
   "execution_count": null,
   "metadata": {},
   "outputs": [],
   "source": [
    "!cat out_nanoq.txt "
   ]
  },
  {
   "cell_type": "markdown",
   "metadata": {},
   "source": [
    "The quality control can also be done by [fastqc](https://timkahlke.github.io/LongRead_tutorials/QC_F.html)  \n",
    "**Don't do it, Very slow !** But I did it for you -> **[HERE](http://localhost:8888/view/bs_reads_fastqc.html)**"
   ]
  },
  {
   "cell_type": "markdown",
   "metadata": {},
   "source": [
    "Quality Control of FASTQ with [Nanoplot](https://github.com/wdecoster/NanoPlot)"
   ]
  },
  {
   "cell_type": "markdown",
   "metadata": {},
   "source": [
    "Install Nanoplot using pip"
   ]
  },
  {
   "cell_type": "code",
   "execution_count": null,
   "metadata": {},
   "outputs": [],
   "source": [
    "!pip install nanoplot"
   ]
  },
  {
   "cell_type": "code",
   "execution_count": null,
   "metadata": {},
   "outputs": [],
   "source": [
    "!NanoPlot --help"
   ]
  },
  {
   "cell_type": "markdown",
   "metadata": {},
   "source": [
    "Use NanoPlot to ckeck quality of reads (See report.html)"
   ]
  },
  {
   "cell_type": "code",
   "execution_count": null,
   "metadata": {},
   "outputs": [],
   "source": [
    "!NanoPlot -t 1 --fastq data/bacillus_subtilis/bs_reads.fastq --outdir NANOPLOT"
   ]
  },
  {
   "cell_type": "markdown",
   "metadata": {},
   "source": [
    "Other usefull tools (in https://github.com/wdecoster/NanoPlot).  \n",
    "`NanoComp`: comparing multiple runs.  \n",
    "`NanoStat`: statistic summary report of reads or alignments.    \n",
    "`NanoFilt`: filtering and trimming of reads.  \n",
    "`NanoLyse`: removing contaminant reads.  \n",
    "[`FiltLong`](https://github.com/rrwick/Filtlong): filtering long reads by quality "
   ]
  },
  {
   "cell_type": "markdown",
   "metadata": {},
   "source": [
    "________________________________________________________________________________________"
   ]
  },
  {
   "cell_type": "markdown",
   "metadata": {},
   "source": [
    "# MAPPING READS AGAINST A REFERENCE USING MINIMAP2"
   ]
  },
  {
   "cell_type": "markdown",
   "metadata": {},
   "source": [
    "Installation of [`minimap2`](https://github.com/lh3/minimap2/) with conda before to run Jupyter notebook.  \n",
    "We have prepared a bigger Bacillus subtilis dataset that was basecalled beforehand. We will try to assemble the sequenced genome. But let's try to use `minimap2` to map fastq reads against the reference to handle files. \n",
    "At the next session we will use `minimap2` as the first step of an assembly."
   ]
  },
  {
   "cell_type": "markdown",
   "metadata": {},
   "source": [
    "**What to do with Minimap2 ?**\n",
    "\n",
    "-Map long noisy genomic reads.  \n",
    "-Map long mRNA/cDNA reads.  \n",
    "-Find overlaps between long reads.  \n",
    "-Map short accurate genomic reads.  \n",
    "-Full genome/assembly alignment."
   ]
  },
  {
   "cell_type": "code",
   "execution_count": 6,
   "metadata": {},
   "outputs": [
    {
     "name": "stdout",
     "output_type": "stream",
     "text": [
      "/bin/bash: minimap2: command not found\r\n"
     ]
    }
   ],
   "source": [
    "!minimap2\n"
   ]
  },
  {
   "cell_type": "markdown",
   "metadata": {},
   "source": [
    "We will go ahead and map all our reads to the reference genome without looking for alignments at this point. There are several reasons why we would to this and one of them is to check how many reads are mappable to the reference, and calculate the average base coverage of the sequencing run by choosing the best overlap for each read."
   ]
  },
  {
   "cell_type": "code",
   "execution_count": null,
   "metadata": {},
   "outputs": [],
   "source": [
    "!minimap2 \\\n",
    "    -x map-ont \\\n",
    "    -o bs_reads_to_ref.paf \\\n",
    "    data/bacillus_subtilis/bs_ref.fasta data/bacillus_subtilis/bs_reads.fastq.gz\n",
    "\n",
    "#-x map-ont; for Oxford Nanopore reads "
   ]
  },
  {
   "cell_type": "markdown",
   "metadata": {},
   "source": [
    "The results is in [PAF (Pairwise mApping Format) format](https://github.com/lh3/miniasm/blob/master/PAF.md).  \n",
    "\n",
    "See below the tabular format:"
   ]
  },
  {
   "cell_type": "markdown",
   "metadata": {},
   "source": [
    "|Col|Type|Description  |\n",
    "|---|---|---|\n",
    "|1|string|Query sequence name  |\n",
    "|2|int|Query sequence length  |\n",
    "|3|int|Query start (0-based; BED-like; closed) | \n",
    "|4|int|Query end (0-based; BED-like; open)  |\n",
    "|5|char|Relative strand: \"+\" or \"-\"  |\n",
    "|6|string|Target sequence name  |\n",
    "|7|int|Target sequence length  |\n",
    "|8|int|Target start on original strand (0-based)  |\n",
    "|9|int|Target end on original strand (0-based)  |\n",
    "|10|int|Number of residue matches  |\n",
    "|11|int|Alignment block length  |\n",
    "|12|int|Mapping quality (0-255; 255 for missing)  |"
   ]
  },
  {
   "cell_type": "code",
   "execution_count": null,
   "metadata": {},
   "outputs": [],
   "source": [
    "!cat bs_reads_to_ref.paf"
   ]
  },
  {
   "cell_type": "code",
   "execution_count": null,
   "metadata": {},
   "outputs": [],
   "source": [
    "import pandas\n",
    "\n",
    "paf = pandas.read_csv('bs_reads_to_ref.paf', header=None, delimiter='\\t')"
   ]
  },
  {
   "cell_type": "code",
   "execution_count": null,
   "metadata": {
    "scrolled": true
   },
   "outputs": [],
   "source": [
    "paf"
   ]
  },
  {
   "cell_type": "code",
   "execution_count": null,
   "metadata": {},
   "outputs": [],
   "source": [
    "!gunzip -k data/bacillus_subtilis/bs_reads.fastq.gz"
   ]
  },
  {
   "cell_type": "code",
   "execution_count": null,
   "metadata": {},
   "outputs": [],
   "source": [
    "from Bio import SeqIO\n",
    "\n",
    "reads = []\n",
    "with open('data/bacillus_subtilis/bs_reads.fastq') as handle:\n",
    "    for read in SeqIO.parse(handle, 'fastq'):\n",
    "        reads.append(read)"
   ]
  },
  {
   "cell_type": "code",
   "execution_count": null,
   "metadata": {
    "scrolled": true
   },
   "outputs": [],
   "source": [
    "print(\"Num seq        =\", len(reads))\n",
    "print(\"Num mapped seq =\", len(paf[0].unique()))"
   ]
  },
  {
   "cell_type": "code",
   "execution_count": null,
   "metadata": {
    "scrolled": true
   },
   "outputs": [],
   "source": [
    "paf[paf.duplicated(subset = 0, keep = 'first')]"
   ]
  },
  {
   "cell_type": "code",
   "execution_count": null,
   "metadata": {
    "scrolled": true
   },
   "outputs": [],
   "source": [
    "paf.drop_duplicates(subset = 0, keep = 'first', inplace = True)\n",
    "paf.shape"
   ]
  },
  {
   "cell_type": "code",
   "execution_count": null,
   "metadata": {},
   "outputs": [],
   "source": [
    "from matplotlib import pyplot\n",
    "import seaborn\n",
    "\n",
    "reflen = paf[6][0]\n",
    "\n",
    "b = [0] * reflen\n",
    "e = [0] * reflen\n",
    "for i, row in paf.iterrows():\n",
    "    b[row[7]] += 1\n",
    "    e[row[8]] += 1\n",
    "\n",
    "pile = [0] * reflen\n",
    "coverage = 0\n",
    "for i in range(reflen):\n",
    "    coverage += b[i]\n",
    "    pile[i] += coverage\n",
    "    coverage -= e[i]\n",
    "\n",
    "print(\"Avg base coverage =\", sum(pile) / reflen)\n",
    "_ = pyplot.plot(pile)"
   ]
  },
  {
   "cell_type": "code",
   "execution_count": null,
   "metadata": {},
   "outputs": [],
   "source": [
    "_ = pyplot.plot(pile[500000:1000000])"
   ]
  },
  {
   "cell_type": "markdown",
   "metadata": {},
   "source": [
    "`Minimap` can also find alignments which we will use to calculate the average accuracy of our data. \n",
    "This can be done by passing parameter `-a` which will print the output in SAM format, but we can also use `-c` to let minimap2 put the CIGAR string in the last column of the PAF file."
   ]
  },
  {
   "cell_type": "markdown",
   "metadata": {},
   "source": [
    "The same thing does ratlesnake, it uses minimizers and the minimap algorithm to find best positions of each read in the reference, and then calculates edit distance with edlib (instead of ksw2 in minimap2). To get the accuracy histogram, we run ratlesnake as in session 1."
   ]
  },
  {
   "cell_type": "code",
   "execution_count": null,
   "metadata": {},
   "outputs": [],
   "source": [
    "!minimap2"
   ]
  },
  {
   "cell_type": "code",
   "execution_count": null,
   "metadata": {},
   "outputs": [],
   "source": [
    "!minimap2 \\\n",
    "    -x map-ont \\\n",
    "    -c \\\n",
    "    --eqx \\\n",
    "    -o bs_reads_to_ref.cigar.paf \\\n",
    "    data/bacillus_subtilis/bs_ref.fasta \\\n",
    "    data/bacillus_subtilis/bs_reads.fastq.gz\n",
    "#-c output CIGAR in PAF\n",
    "#--eqx write =/X CIGAR operators"
   ]
  },
  {
   "cell_type": "markdown",
   "metadata": {},
   "source": [
    "Install **again** Ratlesnake"
   ]
  },
  {
   "cell_type": "code",
   "execution_count": null,
   "metadata": {},
   "outputs": [],
   "source": [
    "!git clone https://github.com/lbcb-sci/ratlesnake\n",
    "!mkdir ratlesnake/build\n",
    "!cmake -S ratlesnake -B ratlesnake/build -DCMAKE_BUILD_TYPE=Release\n",
    "!make -C ratlesnake/build"
   ]
  },
  {
   "cell_type": "code",
   "execution_count": null,
   "metadata": {},
   "outputs": [],
   "source": [
    "!ratlesnake/build/bin/ratlesnake"
   ]
  },
  {
   "cell_type": "code",
   "execution_count": null,
   "metadata": {},
   "outputs": [],
   "source": [
    "!ratlesnake/build/bin/ratlesnake \\\n",
    "    -r 1 \\\n",
    "    -t 4 \\\n",
    "    data/bacillus_subtilis/bs_reads.fastq.gz \\\n",
    "    data/bacillus_subtilis/bs_ref.fasta"
   ]
  },
  {
   "cell_type": "markdown",
   "metadata": {},
   "source": [
    "**For Advanced users/players only :**  "
   ]
  },
  {
   "cell_type": "code",
   "execution_count": null,
   "metadata": {
    "scrolled": true
   },
   "outputs": [],
   "source": [
    "paf = pandas.read_csv('bs_reads_to_ref.cigar.paf', header = None, delimiter = '\\t', error_bad_lines = False)\n",
    "paf.drop_duplicates(subset = 0, keep = 'first', inplace = True)\n",
    "paf"
   ]
  },
  {
   "cell_type": "code",
   "execution_count": null,
   "metadata": {},
   "outputs": [],
   "source": [
    "def base_accuracy(paf):\n",
    "    stats = {'=': [], 'X': [], 'I': [], 'D': []}\n",
    "    for i, row in paf.iterrows():\n",
    "        if pandas.isnull(row[22]):\n",
    "            continue\n",
    "        read = {'=': 0., 'X': 0., 'I': 0., 'D': 0.}\n",
    "        cigar = row[22][5:]\n",
    "        n = ''\n",
    "        for c in cigar:\n",
    "            if c in ['=', 'X', 'I', 'D']:\n",
    "                read[c] += int(n)\n",
    "                n = ''\n",
    "            else:\n",
    "                n += c\n",
    "        for m, n in read.items():\n",
    "            stats[m].append(n / sum(read.values()))\n",
    "\n",
    "    return stats\n",
    "\n",
    "stats = base_accuracy(paf)"
   ]
  },
  {
   "cell_type": "code",
   "execution_count": null,
   "metadata": {},
   "outputs": [],
   "source": [
    "import statistics\n",
    "\n",
    "def print_statistics(stats):\n",
    "    print('  Min      Median   Mean     Max')\n",
    "    for m, n in stats.items():\n",
    "        print(m, '{0:.6f}'.format(min(n)), '{0:.6f}'.format(statistics.median(n)), '{0:.6f}'.format(statistics.mean(n)), '{0:.6f}'.format(max(n)))\n",
    "\n",
    "print_statistics(stats)"
   ]
  }
 ],
 "metadata": {
  "kernelspec": {
   "display_name": "Python 3 (ipykernel)",
   "language": "python",
   "name": "python3"
  },
  "language_info": {
   "codemirror_mode": {
    "name": "ipython",
    "version": 3
   },
   "file_extension": ".py",
   "mimetype": "text/x-python",
   "name": "python",
   "nbconvert_exporter": "python",
   "pygments_lexer": "ipython3",
   "version": "3.11.0"
  }
 },
 "nbformat": 4,
 "nbformat_minor": 4
}
