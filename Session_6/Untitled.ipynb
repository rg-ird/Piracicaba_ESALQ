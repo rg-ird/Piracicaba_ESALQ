{
 "cells": [
  {
   "cell_type": "markdown",
   "id": "6e6620cc",
   "metadata": {},
   "source": [
    "# Exercise"
   ]
  },
  {
   "cell_type": "markdown",
   "id": "4ebf40b7",
   "metadata": {},
   "source": [
    "You have to evalutate the quality and to assemble fastq data created with Oxford Nanopore Q20+ kit from Proteus mirabilis"
   ]
  },
  {
   "cell_type": "markdown",
   "id": "cd78fdb9",
   "metadata": {},
   "source": [
    "Download the data and put it in data/proteus_mirabilis directory"
   ]
  },
  {
   "cell_type": "markdown",
   "id": "cea8540a",
   "metadata": {},
   "source": [
    "**1**_ Evaluate the quality using:  \n",
    "    -nanoq  \n",
    "    -Rattlesnake\n",
    "    "
   ]
  },
  {
   "cell_type": "markdown",
   "id": "0d7d04f9",
   "metadata": {},
   "source": [
    "**2**_ Assemble the data with :  \n",
    "    -Flye or Miniasm"
   ]
  },
  {
   "cell_type": "markdown",
   "id": "2e358b88",
   "metadata": {},
   "source": [
    "**3**_ Polish the asembly using :  \n",
    "-Racon (2 iteration)"
   ]
  },
  {
   "cell_type": "markdown",
   "id": "e71675ed",
   "metadata": {},
   "source": [
    "**4**_ Compare the polish assembly with the reference genome (data/proteus_mirabilis/Proteus_mirabilis_reference.fasta) usinh DNAdiff (mummer)"
   ]
  },
  {
   "cell_type": "markdown",
   "id": "1b99e6df",
   "metadata": {},
   "source": [
    "**5**_ Use Busco to evaluate the quality of the assembly.  "
   ]
  },
  {
   "cell_type": "code",
   "execution_count": null,
   "id": "3f94d91e",
   "metadata": {},
   "outputs": [],
   "source": []
  }
 ],
 "metadata": {
  "kernelspec": {
   "display_name": "Python 3",
   "language": "python",
   "name": "python3"
  },
  "language_info": {
   "codemirror_mode": {
    "name": "ipython",
    "version": 3
   },
   "file_extension": ".py",
   "mimetype": "text/x-python",
   "name": "python",
   "nbconvert_exporter": "python",
   "pygments_lexer": "ipython3",
   "version": "3.8.8"
  }
 },
 "nbformat": 4,
 "nbformat_minor": 5
}
