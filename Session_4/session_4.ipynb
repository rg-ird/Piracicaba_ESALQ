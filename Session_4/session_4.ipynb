{
 "cells": [
  {
   "cell_type": "markdown",
   "metadata": {},
   "source": [
    "# SESSION_4"
   ]
  },
  {
   "cell_type": "markdown",
   "metadata": {},
   "source": [
    "Prerequisites: In a terminal, You need to create, install biopython and activate the `Conda` env as follow before to start jupyter"
   ]
  },
  {
   "cell_type": "markdown",
   "metadata": {},
   "source": [
    "**We will create a new env called curso_4**"
   ]
  },
  {
   "cell_type": "markdown",
   "metadata": {},
   "source": [
    "!conda create -y --name curso_4"
   ]
  },
  {
   "cell_type": "markdown",
   "metadata": {},
   "source": [
    "!conda install -y -n curso_4 -c bioconda -c conda-forge mummer gepard racon nanopolish minimap2 jupyter"
   ]
  },
  {
   "cell_type": "markdown",
   "metadata": {},
   "source": [
    "**for MacOs users: you may have problem with mummer v.3 installed using conda**.  If you have troubles, you should install mummer4 using a regulation installation, see here :  (https://mummer4.github.io/install/install.html)"
   ]
  },
  {
   "cell_type": "markdown",
   "metadata": {},
   "source": [
    "!conda activate curso_4"
   ]
  },
  {
   "cell_type": "markdown",
   "metadata": {},
   "source": [
    "!jupyter notebook &"
   ]
  },
  {
   "cell_type": "markdown",
   "metadata": {},
   "source": [
    "# Polishing Assemblies"
   ]
  },
  {
   "cell_type": "markdown",
   "metadata": {},
   "source": [
    "What is “genome polishing”?\n",
    "\n",
    "“Genome polishing,” sometimes referred to as “genome finishing,” is a workflow in which assembly software searches for local misassemblies and other inconsistencies in a draft genome assembly and then corrects them. Genome polishing can be used to create hybrid assemblies with Illumina data and long read sequencing data and is especially valuable for enhancing assembly results where there are concerns about single molecule or nanopore sequencing accuracy. (https://www.dnastar.com/blog/dnastar-news/genome-polishing-benchmarks/)"
   ]
  },
  {
   "cell_type": "code",
   "execution_count": null,
   "metadata": {},
   "outputs": [],
   "source": [
    "from IPython.display import YouTubeVideo\n",
    "\n",
    "YouTubeVideo('jCVkHq9dlGs', 560, 315)"
   ]
  },
  {
   "cell_type": "markdown",
   "metadata": {},
   "source": [
    "# CALCULATING DIFFERENCES BETWEEN ASSEMBLIES"
   ]
  },
  {
   "cell_type": "markdown",
   "metadata": {},
   "source": [
    "In the previous session we assembled the b. subtilis genome without  error correction of reads. The accuracy of such assemblies equals to the base accuracy of sequenced reads and is unusable for many downstream analyses. \n",
    "Let us check the actual error with `dnadiff`."
   ]
  },
  {
   "cell_type": "markdown",
   "metadata": {},
   "source": [
    "We can now run `dnadiff` from the `mummer` package, which is a tool for calculating differences between two genome and providing a detailed summary. Try with the different assembly done at session_3.  \n",
    "(see http://mummer.sourceforge.net)"
   ]
  },
  {
   "cell_type": "code",
   "execution_count": 1,
   "metadata": {},
   "outputs": [
    {
     "name": "stdout",
     "output_type": "stream",
     "text": [
      "\r\n",
      "  USAGE: dnadiff  [options]  <reference>  <query>\r\n",
      "    or   dnadiff  [options]  -d <delta file>\r\n",
      "\r\n",
      "  DESCRIPTION:\r\n",
      "    Run comparative analysis of two sequence sets using nucmer and its\r\n",
      "    associated utilities with recommended parameters. See MUMmer\r\n",
      "    documentation for a more detailed description of the\r\n",
      "    output. Produces the following output files:\r\n",
      "\r\n",
      "    .report  - Summary of alignments, differences and SNPs\r\n",
      "    .delta   - Standard nucmer alignment output\r\n",
      "    .1delta  - 1-to-1 alignment from delta-filter -1\r\n",
      "    .mdelta  - M-to-M alignment from delta-filter -m\r\n",
      "    .1coords - 1-to-1 coordinates from show-coords -THrcl .1delta\r\n",
      "    .mcoords - M-to-M coordinates from show-coords -THrcl .mdelta\r\n",
      "    .snps    - SNPs from show-snps -rlTHC .1delta\r\n",
      "    .rdiff   - Classified ref breakpoints from show-diff -rH .mdelta\r\n",
      "    .qdiff   - Classified qry breakpoints from show-diff -qH .mdelta\r\n",
      "    .unref   - Unaligned reference IDs and lengths (if applicable)\r\n",
      "    .unqry   - Unaligned query IDs and lengths (if applicable)\r\n",
      "\r\n",
      "  MANDATORY:\r\n",
      "    reference       Set the input reference multi-FASTA filename\r\n",
      "    query           Set the input query multi-FASTA filename\r\n",
      "      or\r\n",
      "    delta file      Unfiltered .delta alignment file from nucmer\r\n",
      "\r\n",
      "  OPTIONS:\r\n",
      "    -d|delta        Provide precomputed delta file for analysis\r\n",
      "    -h\r\n",
      "    --help          Display help information and exit\r\n",
      "    -p|prefix       Set the prefix of the output files (default \"out\")\r\n",
      "    -V\r\n",
      "    --version       Display the version information and exit\r\n",
      "    \r\n"
     ]
    }
   ],
   "source": [
    "!dnadiff -h"
   ]
  },
  {
   "cell_type": "code",
   "execution_count": null,
   "metadata": {},
   "outputs": [],
   "source": [
    "!dnadiff -p bs_assembly_miniasm data/bacillus_subtilis/bs_ref.fasta data/bacillus_subtilis/bs_assembly_miniasm.fasta"
   ]
  },
  {
   "cell_type": "code",
   "execution_count": null,
   "metadata": {
    "scrolled": true
   },
   "outputs": [],
   "source": [
    "!cat bs_assembly_miniasm.report"
   ]
  },
  {
   "cell_type": "markdown",
   "metadata": {},
   "source": [
    "When we mapped all our reads to the reference genome in session 2, we saw that numerous reads cover each base in the reference. \n",
    "This information can be used to ammend errors that happened during sequencing and basecalling by aligning all the sequences to our assembly. The general idea is to create an alignment pile of all reads from which we can infer the most frequent base at each position in the assembly.\n",
    "They are differents polishing tools for corecting raw contigs, using as an entry the nanopore reads or illumina reads to perform corrections.\n",
    "The popular polishing tool is racon (https://github.com/isovic/racon); medaka (https://github.com/nanoporetech/medaka); and nanopolish (https://github.com/jts/nanopolish)\n",
    "\n",
    "For a fixed set of parameters, `racon` will ultimately hit the maximal accuracy value after a couple of iterations. To increase accuracy even further, we need to use a different algorithm or even additional information. We have two options, use `medaka` from Oxford Nanopore Technologies which uses deep neural networks trained on `racon` output using only basecalled reads, or use `nanopolish` which uses the raw signal data to increase the accuracy with hidden Markov models. First we will try `medaka` which is much faster than `nanopolish`, and afterwards we will showcase how to use `nanopolish`."
   ]
  },
  {
   "cell_type": "markdown",
   "metadata": {},
   "source": [
    "# POLISHING WITH RACON"
   ]
  },
  {
   "cell_type": "markdown",
   "metadata": {},
   "source": [
    "The consensus module `racon` was developed atop `minimap` and `miniasm` assembly pipeline as the consensus module for third generation sequencing data. The core engine of `racon` is a partial order alignment library called `spoa`.  \n",
    "(see https://github.com/isovic/racon)"
   ]
  },
  {
   "cell_type": "markdown",
   "metadata": {},
   "source": [
    "`racon` was designed to iteratively increase the accuracy of a target sequence by first using a mapper (`minimap2`) to map/align all the reads to the target. Afterwards, it filters out low quality overlaps, slices the target sequence into windows of 500 bp, drops read parts that do not pass a quality threshold and construct a multiple sequence alignment from each window. After calling consensus on each window, the final sequence is obtained by concatenating all window consensuses.  \n",
    "\n",
    "(see https://www.ncbi.nlm.nih.gov/pmc/articles/PMC5411768/)\n",
    "\n",
    "We are going to use racon to do an initial correction. The medaka documentation advises to do four rounds with racon before polishing with medaka since medaka has been trained with racon polished assemblies. \n",
    "\n",
    "(see https://denbi-nanopore-training-course.readthedocs.io/en/latest/polishing/index.html)\n"
   ]
  },
  {
   "cell_type": "code",
   "execution_count": 2,
   "metadata": {},
   "outputs": [
    {
     "data": {
      "text/html": [
       "<img src=\"https://www.ncbi.nlm.nih.gov/pmc/articles/PMC5411768/bin/737f03.jpg\"/>"
      ],
      "text/plain": [
       "<IPython.core.display.Image object>"
      ]
     },
     "execution_count": 2,
     "metadata": {},
     "output_type": "execute_result"
    }
   ],
   "source": [
    "from IPython.display import Image\n",
    "Image(url =\"https://www.ncbi.nlm.nih.gov/pmc/articles/PMC5411768/bin/737f03.jpg\")"
   ]
  },
  {
   "cell_type": "code",
   "execution_count": null,
   "metadata": {},
   "outputs": [],
   "source": [
    "!racon"
   ]
  },
  {
   "cell_type": "markdown",
   "metadata": {},
   "source": [
    "Let us run first `minimap2` to find the positions where our reads map to the assembly and then we will use `racon` to increase the accuracy. Eventually running `dnadiff` will give us the details about the differences against the reference genome.  \n",
    "**Do 4 rounds of Racon**."
   ]
  },
  {
   "cell_type": "markdown",
   "metadata": {},
   "source": [
    "**Round 1**"
   ]
  },
  {
   "cell_type": "code",
   "execution_count": null,
   "metadata": {},
   "outputs": [],
   "source": [
    "!minimap2 \\\n",
    "    -t 4 \\\n",
    "    -x map-ont \\\n",
    "    bs_assembly_miniasm.fasta \\\n",
    "    data/bacillus_subtilis/bs_reads.fastq.gz > bs_assembly_miniasm.paf\n",
    "\n",
    "!racon \\\n",
    "    -t 4 \\\n",
    "    data/bacillus_subtilis/bs_reads.fastq.gz \\\n",
    "    bs_assembly_miniasm.paf \\\n",
    "    bs_assembly_miniasm.fasta > bs_assembly_miniasm_r1.fasta"
   ]
  },
  {
   "cell_type": "code",
   "execution_count": null,
   "metadata": {
    "scrolled": true
   },
   "outputs": [],
   "source": [
    "!dnadiff \\\n",
    "    -p bs_assembly_miniasm_r1 \\\n",
    "    data/bacillus_subtilis/bs_ref.fasta \\\n",
    "    bs_assembly_miniasm_r1.fasta 2> err"
   ]
  },
  {
   "cell_type": "code",
   "execution_count": null,
   "metadata": {},
   "outputs": [],
   "source": [
    "!cat bs_assembly_miniasm_r1.report"
   ]
  },
  {
   "cell_type": "markdown",
   "metadata": {},
   "source": [
    "With only one `racon` iteration the accuracy increased from $85.28\\%$ to $98.76\\%$. In addition, the number of break points decreased drastically, the assembly length almost matches the actual reference length, and almost no unalignable bases are left."
   ]
  },
  {
   "cell_type": "markdown",
   "metadata": {},
   "source": [
    "We will run a few more iterations to see how far we can increase the accuracy.  \n",
    "Do several iterations of `Racon`."
   ]
  },
  {
   "cell_type": "markdown",
   "metadata": {},
   "source": [
    "**Round 2**"
   ]
  },
  {
   "cell_type": "code",
   "execution_count": null,
   "metadata": {},
   "outputs": [],
   "source": [
    "!minimap2 \\\n",
    "    -t 4 \\\n",
    "    -x map-ont \\\n",
    "    bs_assembly_miniasm_r1.fasta \\\n",
    "    data/bacillus_subtilis/bs_reads.fastq.gz > bs_assembly_miniasm_r1.paf\n",
    "\n",
    "!racon \\\n",
    "    -t 4 \\\n",
    "    data/bacillus_subtilis/bs_reads.fastq.gz \\\n",
    "   bs_assembly_miniasm_r1.paf \\\n",
    "    bs_assembly_miniasm_r1.fasta > bs_assembly_miniasm_r2.fasta"
   ]
  },
  {
   "cell_type": "code",
   "execution_count": null,
   "metadata": {
    "scrolled": true
   },
   "outputs": [],
   "source": [
    "!dnadiff \\\n",
    "    -p bs_assembly_raven_2 \\\n",
    "    data/bacillus_subtilis/bs_ref.fasta \\\n",
    "    bs_assembly_miniasm_r2.fasta 2> err\n",
    "\n",
    "!cat bs_assembly_miniasm_r2.report"
   ]
  },
  {
   "cell_type": "markdown",
   "metadata": {},
   "source": [
    "**Round 3**"
   ]
  },
  {
   "cell_type": "code",
   "execution_count": null,
   "metadata": {},
   "outputs": [],
   "source": [
    "!minimap2 \\\n",
    "    -t 4 \\\n",
    "    -x map-ont \\\n",
    "    bs_assembly_miniasm_r2.fasta \\\n",
    "    data/bacillus_subtilis/bs_reads.fastq.gz > bs_assembly_miniasm_r2.paf\n",
    "\n",
    "!racon \\\n",
    "    -t 4 \\\n",
    "    data/bacillus_subtilis/bs_reads.fastq.gz \\\n",
    "   bs_assembly_miniasm_r2.paf \\\n",
    "    bs_assembly_miniasm_r2.fasta > bs_assembly_miniasm_r3.fasta"
   ]
  },
  {
   "cell_type": "code",
   "execution_count": null,
   "metadata": {},
   "outputs": [],
   "source": [
    "!dnadiff \\\n",
    "    -p bs_assembly_raven_3 \\\n",
    "    data/bacillus_subtilis/bs_ref.fasta \\\n",
    "    bs_assembly_miniasm_r3.fasta 2> err\n",
    "\n",
    "!cat bs_assembly_miniasm_r3.report"
   ]
  },
  {
   "cell_type": "markdown",
   "metadata": {},
   "source": [
    "**Round 4**"
   ]
  },
  {
   "cell_type": "code",
   "execution_count": null,
   "metadata": {},
   "outputs": [],
   "source": [
    "!minimap2 \\\n",
    "    -t 4 \\\n",
    "    -x map-ont \\\n",
    "    bs_assembly_miniasm_r3.fasta \\\n",
    "    data/bacillus_subtilis/bs_reads.fastq.gz > bs_assembly_miniasm_r3.paf\n",
    "\n",
    "!racon \\\n",
    "    -t 4 \\\n",
    "    data/bacillus_subtilis/bs_reads.fastq.gz \\\n",
    "   bs_assembly_miniasm_r3.paf \\\n",
    "    bs_assembly_miniasm_r3.fasta > bs_assembly_miniasm_r4.fasta"
   ]
  },
  {
   "cell_type": "code",
   "execution_count": null,
   "metadata": {},
   "outputs": [],
   "source": [
    "!dnadiff \\\n",
    "    -p bs_assembly_raven_4 \\\n",
    "    data/bacillus_subtilis/bs_ref.fasta \\\n",
    "    bs_assembly_miniasm_r4.fasta 2> err\n",
    "\n",
    "!cat bs_assembly_miniasm_r4.report"
   ]
  },
  {
   "cell_type": "markdown",
   "metadata": {},
   "source": [
    "# POLISHING WITH MEDAKA"
   ]
  },
  {
   "cell_type": "markdown",
   "metadata": {},
   "source": [
    "`medaka` is a tool to create consensus sequences and variant calls from nanopore sequencing data. This task is performed using neural networks applied a pileup of individual sequencing reads against a draft assembly. It provides state-of-the-art results outperforming sequence-graph based methods and signal-based methods, whilst also being faster.\n",
    "\n",
    "(see https://github.com/nanoporetech/medaka)"
   ]
  },
  {
   "cell_type": "markdown",
   "metadata": {},
   "source": [
    "Medaka is not compatible with the curso_4 env. **A new environment is necessary**. In a new terminal type : "
   ]
  },
  {
   "cell_type": "markdown",
   "metadata": {},
   "source": [
    "!conda create -y --name medaka python=3.6 "
   ]
  },
  {
   "cell_type": "markdown",
   "metadata": {},
   "source": [
    "!conda install -y -n medaka medaka jupyter"
   ]
  },
  {
   "cell_type": "markdown",
   "metadata": {},
   "source": [
    "!conda activate medaka"
   ]
  },
  {
   "cell_type": "markdown",
   "metadata": {},
   "source": [
    "!jupyter notebook &"
   ]
  },
  {
   "cell_type": "markdown",
   "metadata": {},
   "source": [
    "!medaka_consensus -h"
   ]
  },
  {
   "cell_type": "code",
   "execution_count": null,
   "metadata": {
    "scrolled": false
   },
   "outputs": [],
   "source": [
    "!medaka_consensus \\\n",
    "    -i data/bacillus_subtilis/bs_reads.fastq.gz \\\n",
    "    -d bs_assembly_miniasm_r4.fasta \\\n",
    "    -m r10_min_high_g340 \\\n",
    "    -t 4 \\\n",
    "    -o bs_miniasm_medaka \\\n",
    "    -f"
   ]
  },
  {
   "cell_type": "code",
   "execution_count": null,
   "metadata": {},
   "outputs": [],
   "source": [
    "%ls bs_miniasm_medaka"
   ]
  },
  {
   "cell_type": "code",
   "execution_count": null,
   "metadata": {},
   "outputs": [],
   "source": [
    "!dnadiff \\\n",
    "    -p bs_miniasm_medaka \\\n",
    "    data/bacillus_subtilis/bs_ref.fasta \\\n",
    "    bs_miniasm_medaka/consensus.fasta 2> err\n",
    "\n",
    "!cat bs_miniasm_medaka.report"
   ]
  },
  {
   "cell_type": "markdown",
   "metadata": {},
   "source": [
    "Let us try running `medaka` directly on the unpolished assembly."
   ]
  },
  {
   "cell_type": "code",
   "execution_count": null,
   "metadata": {},
   "outputs": [],
   "source": [
    "!medaka_consensus \\\n",
    "    -i data/bacillus_subtilis/bs_reads.fastq.gz \\\n",
    "    -d data/bacillus_subtilis/ bs_assembly_miniasm.fasta \\\n",
    "    -m r10_min_high_g340 \\\n",
    "    -t 4 \\\n",
    "    -o bs_raw_miniasm_medaka \\\n",
    "    -f"
   ]
  },
  {
   "cell_type": "code",
   "execution_count": null,
   "metadata": {},
   "outputs": [],
   "source": [
    "!dnadiff \\\n",
    "    -p bs_raw_miniasm_medaka \\\n",
    "    data/bacillus_subtilis/bs_ref.fasta \\\n",
    "    bs_raw_miniasm_medaka/consensus.fasta 2> err\n",
    "\n",
    "!cat bs_raw_miniasm_medaka.report"
   ]
  },
  {
   "cell_type": "markdown",
   "metadata": {},
   "source": [
    "# POLISHING WITH NANOPOLISH"
   ]
  },
  {
   "cell_type": "markdown",
   "metadata": {},
   "source": [
    "With the fact that `nanopolish`-ing takes a lot of time, we will not run it.  \n",
    "(see https://github.com/jts/nanopolishan).  \n",
    "Software package for signal-level analysis of Oxford Nanopore sequencing data. Nanopolish can calculate an improved consensus sequence for a draft genome assembly, detect base modifications, call SNPs and indels with respect to a reference genome and more (see Nanopolish modules, below)."
   ]
  },
  {
   "cell_type": "code",
   "execution_count": null,
   "metadata": {},
   "outputs": [],
   "source": [
    "!nanopolish --help"
   ]
  },
  {
   "cell_type": "markdown",
   "metadata": {},
   "source": [
    "First we need to let `nanopolish` connect the raw data (fast5) and the basecalled data. "
   ]
  },
  {
   "cell_type": "markdown",
   "metadata": {},
   "source": [
    "# OTHERS TOOLS"
   ]
  },
  {
   "cell_type": "markdown",
   "metadata": {},
   "source": [
    "**[Pilon](https://github.com/broadinstitute/pilon)**.  **With Illumina data**.  \n",
    "(see https://denbi-nanopore-training-course.readthedocs.io/en/latest/polishing/pilon/index.html)."
   ]
  },
  {
   "cell_type": "markdown",
   "metadata": {},
   "source": [
    "# Comparative evaluation of Nanopore polishing tools"
   ]
  },
  {
   "cell_type": "markdown",
   "metadata": {},
   "source": [
    "See https://doi.org/10.1038/s41598-021-00178-w "
   ]
  },
  {
   "cell_type": "code",
   "execution_count": null,
   "metadata": {},
   "outputs": [],
   "source": [
    "from IPython.display import Image\n",
    "Image(url = \"https://media.springernature.com/full/springer-static/image/art%3A10.1038%2Fs41598-021-00178-w/MediaObjects/41598_2021_178_Fig1_HTML.png?as=webp\")"
   ]
  },
  {
   "cell_type": "markdown",
   "metadata": {},
   "source": [
    "______________________________________________________________________________________"
   ]
  },
  {
   "cell_type": "markdown",
   "metadata": {},
   "source": [
    "**RESULTS**"
   ]
  },
  {
   "cell_type": "markdown",
   "metadata": {},
   "source": [
    "Complete the following results table :"
   ]
  },
  {
   "cell_type": "markdown",
   "metadata": {},
   "source": [
    "|Assembly Tools| Raw reads | Corrected reads| Assembly File name | Polishing tools | Polished File name | \n",
    "|---|---|---|---|---|---|\n",
    "| Minimap/Miniasm| x| | | | |\n",
    "| Flye| x| | | | |\n",
    "| Flye/Canu| | x| | | |\n",
    "| Raven| x| | | | |\n",
    "| Raven/Canu| | x| | | |\n",
    "| Canu| | x| | | |\n",
    "| Shasta| x| | | | |\n",
    "| Shasta/Canu| | x| | | |\n",
    "| | | | | | |\n",
    "| | | | | |  |"
   ]
  },
  {
   "cell_type": "code",
   "execution_count": null,
   "metadata": {},
   "outputs": [],
   "source": []
  }
 ],
 "metadata": {
  "kernelspec": {
   "display_name": "Python 3",
   "language": "python",
   "name": "python3"
  },
  "language_info": {
   "codemirror_mode": {
    "name": "ipython",
    "version": 3
   },
   "file_extension": ".py",
   "mimetype": "text/x-python",
   "name": "python",
   "nbconvert_exporter": "python",
   "pygments_lexer": "ipython3",
   "version": "3.8.8"
  }
 },
 "nbformat": 4,
 "nbformat_minor": 4
}
