{
 "cells": [
  {
   "cell_type": "markdown",
   "metadata": {},
   "source": [
    "# SESSION_4"
   ]
  },
  {
   "cell_type": "markdown",
   "metadata": {},
   "source": [
    "Prerequisites: In a terminal, You need to create, install biopython and activate the `Conda` env as follow before to start jupyter"
   ]
  },
  {
   "cell_type": "markdown",
   "metadata": {},
   "source": [
    "**We will create a new env called curso_4**"
   ]
  },
  {
   "cell_type": "markdown",
   "metadata": {},
   "source": [
    "!conda create -y --name curso_4"
   ]
  },
  {
   "cell_type": "markdown",
   "metadata": {},
   "source": [
    "!conda install -y -n curso_4 -c bioconda -c conda-forge mummer gepard racon nanopolish minimap2 jupyter"
   ]
  },
  {
   "cell_type": "markdown",
   "metadata": {},
   "source": [
    "Problem with Nanopolish"
   ]
  },
  {
   "cell_type": "markdown",
   "metadata": {},
   "source": [
    "**for MacOs users: you may have problem with mummer v.3 installed using conda**.  If you have troubles, you should install mummer4 using a regulation installation, see here :  (https://mummer4.github.io/install/install.html)"
   ]
  },
  {
   "cell_type": "markdown",
   "metadata": {},
   "source": [
    "!conda activate curso_4"
   ]
  },
  {
   "cell_type": "markdown",
   "metadata": {},
   "source": [
    "!jupyter notebook &"
   ]
  },
  {
   "cell_type": "markdown",
   "metadata": {},
   "source": [
    "# Polishing Assemblies"
   ]
  },
  {
   "cell_type": "markdown",
   "metadata": {},
   "source": [
    "What is “genome polishing”?\n",
    "\n",
    "“Genome polishing,” sometimes referred to as “genome finishing,” is a workflow in which assembly software searches for local misassemblies and other inconsistencies in a draft genome assembly and then corrects them. Genome polishing can be used to create hybrid assemblies with Illumina data and long read sequencing data and is especially valuable for enhancing assembly results where there are concerns about single molecule or nanopore sequencing accuracy. (https://www.dnastar.com/blog/dnastar-news/genome-polishing-benchmarks/)"
   ]
  },
  {
   "cell_type": "code",
   "execution_count": 2,
   "metadata": {},
   "outputs": [
    {
     "data": {
      "image/jpeg": "[encoded data removed]",
      "text/html": [
       "\n",
       "        <iframe\n",
       "            width=\"560\"\n",
       "            height=\"315\"\n",
       "            src=\"https://www.youtube.com/embed/jCVkHq9dlGs\"\n",
       "            frameborder=\"0\"\n",
       "            allowfullscreen\n",
       "            \n",
       "        ></iframe>\n",
       "        "
      ],
      "text/plain": [
       "<IPython.lib.display.YouTubeVideo at 0x109717460>"
      ]
     },
     "execution_count": 2,
     "metadata": {},
     "output_type": "execute_result"
    }
   ],
   "source": [
    "from IPython.display import YouTubeVideo\n",
    "\n",
    "YouTubeVideo('jCVkHq9dlGs', 560, 315)"
   ]
  },
  {
   "cell_type": "markdown",
   "metadata": {},
   "source": [
    "# CALCULATING DIFFERENCES BETWEEN ASSEMBLIES"
   ]
  },
  {
   "cell_type": "markdown",
   "metadata": {},
   "source": [
    "In the previous session we assembled the b. subtilis genome without  error correction of reads. The accuracy of such assemblies equals to the base accuracy of sequenced reads and is unusable for many downstream analyses. \n",
    "Let us check the actual error with `dnadiff`."
   ]
  },
  {
   "cell_type": "markdown",
   "metadata": {},
   "source": [
    "We can now run `dnadiff` from the `mummer` package, which is a tool for calculating differences between two genome and providing a detailed summary. Try with the different assembly done at session_3.  \n",
    "(see http://mummer.sourceforge.net)"
   ]
  },
  {
   "cell_type": "code",
   "execution_count": 1,
   "metadata": {},
   "outputs": [
    {
     "name": "stdout",
     "output_type": "stream",
     "text": [
      "/bin/bash: /opt/anaconda3/envs/curso_4/bin/dnadiff: /usr/local/bin/perl: bad interpreter: No such file or directory\r\n"
     ]
    }
   ],
   "source": [
    "!dnadiff -h"
   ]
  },
  {
   "cell_type": "code",
   "execution_count": null,
   "metadata": {},
   "outputs": [],
   "source": [
    "!dnadiff -p bs_assembly_miniasm data/bacillus_subtilis/bs_ref.fasta data/bacillus_subtilis/bs_assembly_miniasm.fasta"
   ]
  },
  {
   "cell_type": "code",
   "execution_count": 4,
   "metadata": {
    "scrolled": true
   },
   "outputs": [
    {
     "name": "stdout",
     "output_type": "stream",
     "text": [
      "/Users/guyot/Piracicaba_ESALQ_2023/Session_4/data/bacillus_subtilis/bs_ref.fasta /Users/guyot/Piracicaba_ESALQ_2023/Session_4/bs_assembly_miniasm.fasta\r\n",
      "NUCMER\r\n",
      "\r\n",
      "                               [REF]                [QRY]\r\n",
      "[Sequences]\r\n",
      "TotalSeqs                          1                    1\r\n",
      "AlignedSeqs              1(100.0000%)          1(100.0000%)\r\n",
      "UnalignedSeqs             0(0.0000%)           0(0.0000%)\r\n",
      "\r\n",
      "[Bases]\r\n",
      "TotalBases                   4045677              3931083\r\n",
      "AlignedBases       3845046(95.0409%)    3733242(94.9673%)\r\n",
      "UnalignedBases       200631(4.9591%)      197841(5.0327%)\r\n",
      "\r\n",
      "[Alignments]\r\n",
      "1-to-1                           323                  323\r\n",
      "TotalLength                  3847844              3731729\r\n",
      "AvgLength                 11912.8297           11553.3406\r\n",
      "AvgIdentity                  85.3145              85.3145\r\n",
      "\r\n",
      "M-to-M                           346                  346\r\n",
      "TotalLength                  3886262              3768634\r\n",
      "AvgLength                 11231.9711           10892.0058\r\n",
      "AvgIdentity                  85.3034              85.3034\r\n",
      "\r\n",
      "[Feature Estimates]\r\n",
      "Breakpoints                      690                  691\r\n",
      "Relocations                        3                    8\r\n",
      "Translocations                     0                    0\r\n",
      "Inversions                         0                    0\r\n",
      "\r\n",
      "Insertions                       330                  338\r\n",
      "InsertionSum                  231868               204819\r\n",
      "InsertionAvg                702.6303             605.9734\r\n",
      "\r\n",
      "TandemIns                          0                    1\r\n",
      "TandemInsSum                       0                   90\r\n",
      "TandemInsAvg                  0.0000              90.0000\r\n",
      "\r\n",
      "[SNPs]\r\n",
      "TotalSNPs                     303282               303282\r\n",
      "CT                   58698(19.3543%)      51971(17.1362%)\r\n",
      "CA                    11997(3.9557%)       10989(3.6234%)\r\n",
      "CG                    12824(4.2284%)       13781(4.5440%)\r\n",
      "GA                   51947(17.1283%)      47436(15.6409%)\r\n",
      "GT                    13351(4.4022%)       11875(3.9155%)\r\n",
      "GC                    13781(4.5440%)       12824(4.2284%)\r\n",
      "AG                   47436(15.6409%)      51947(17.1283%)\r\n",
      "AC                    10989(3.6234%)       11997(3.9557%)\r\n",
      "AT                     9423(3.1070%)        8990(2.9642%)\r\n",
      "TA                     8990(2.9642%)        9423(3.1070%)\r\n",
      "TC                   51971(17.1362%)      58698(19.3543%)\r\n",
      "TG                    11875(3.9155%)       13351(4.4022%)\r\n",
      "\r\n",
      "TotalGSNPs                      2100                 2100\r\n",
      "AT                       12(0.5714%)          14(0.6667%)\r\n",
      "AC                       31(1.4762%)          19(0.9048%)\r\n",
      "AG                     431(20.5238%)        443(21.0952%)\r\n",
      "TA                       14(0.6667%)          12(0.5714%)\r\n",
      "TC                     484(23.0476%)        524(24.9524%)\r\n",
      "TG                       41(1.9524%)          31(1.4762%)\r\n",
      "CG                       33(1.5714%)          37(1.7619%)\r\n",
      "CA                       19(0.9048%)          31(1.4762%)\r\n",
      "CT                     524(24.9524%)        484(23.0476%)\r\n",
      "GT                       31(1.4762%)          41(1.9524%)\r\n",
      "GA                     443(21.0952%)        431(20.5238%)\r\n",
      "GC                       37(1.7619%)          33(1.5714%)\r\n",
      "\r\n",
      "TotalIndels                   267970               267970\r\n",
      "C.                   50606(18.8849%)       18811(7.0198%)\r\n",
      "G.                   48031(17.9240%)       18375(6.8571%)\r\n",
      "A.                   46970(17.5281%)       19029(7.1012%)\r\n",
      "T.                   45847(17.1090%)       20301(7.5758%)\r\n",
      ".G                    18375(6.8571%)      48031(17.9240%)\r\n",
      ".C                    18811(7.0198%)      50606(18.8849%)\r\n",
      ".A                    19029(7.1012%)      46970(17.5281%)\r\n",
      ".T                    20301(7.5758%)      45847(17.1090%)\r\n",
      "\r\n",
      "TotalGIndels                    2283                 2283\r\n",
      "A.                     407(17.8274%)         201(8.8042%)\r\n",
      "T.                     382(16.7324%)         211(9.2422%)\r\n",
      "C.                     366(16.0315%)         175(7.6654%)\r\n",
      "G.                     359(15.7249%)         182(7.9720%)\r\n",
      ".A                      201(8.8042%)        407(17.8274%)\r\n",
      ".T                      211(9.2422%)        382(16.7324%)\r\n",
      ".G                      182(7.9720%)        359(15.7249%)\r\n",
      ".C                      175(7.6654%)        366(16.0315%)\r\n"
     ]
    }
   ],
   "source": [
    "!cat bs_assembly_miniasm.report"
   ]
  },
  {
   "cell_type": "markdown",
   "metadata": {},
   "source": [
    "When we mapped all our reads to the reference genome in session 2, we saw that numerous reads cover each base in the reference. \n",
    "This information can be used to ammend errors that happened during sequencing and basecalling by aligning all the sequences to our assembly. The general idea is to create an alignment pile of all reads from which we can infer the most frequent base at each position in the assembly.\n",
    "They are differents polishing tools for corecting raw contigs, using as an entry the nanopore reads or illumina reads to perform corrections.\n",
    "The popular polishing tool is racon (https://github.com/isovic/racon); medaka (https://github.com/nanoporetech/medaka); and nanopolish (https://github.com/jts/nanopolish)\n",
    "\n",
    "For a fixed set of parameters, `racon` will ultimately hit the maximal accuracy value after a couple of iterations. To increase accuracy even further, we need to use a different algorithm or even additional information. We have two options, use `medaka` from Oxford Nanopore Technologies which uses deep neural networks trained on `racon` output using only basecalled reads, or use `nanopolish` which uses the raw signal data to increase the accuracy with hidden Markov models. First we will try `medaka` which is much faster than `nanopolish`, and afterwards we will showcase how to use `nanopolish`."
   ]
  },
  {
   "cell_type": "markdown",
   "metadata": {},
   "source": [
    "# POLISHING WITH RACON"
   ]
  },
  {
   "cell_type": "markdown",
   "metadata": {},
   "source": [
    "The consensus module `racon` was developed atop `minimap` and `miniasm` assembly pipeline as the consensus module for third generation sequencing data. The core engine of `racon` is a partial order alignment library called `spoa`.  \n",
    "(see https://github.com/isovic/racon)"
   ]
  },
  {
   "cell_type": "markdown",
   "metadata": {},
   "source": [
    "`racon` was designed to iteratively increase the accuracy of a target sequence by first using a mapper (`minimap2`) to map/align all the reads to the target. Afterwards, it filters out low quality overlaps, slices the target sequence into windows of 500 bp, drops read parts that do not pass a quality threshold and construct a multiple sequence alignment from each window. After calling consensus on each window, the final sequence is obtained by concatenating all window consensuses.  \n",
    "\n",
    "(see https://www.ncbi.nlm.nih.gov/pmc/articles/PMC5411768/)\n",
    "\n",
    "We are going to use racon to do an initial correction. The medaka documentation advises to do four rounds with racon before polishing with medaka since medaka has been trained with racon polished assemblies. \n",
    "\n",
    "(see https://denbi-nanopore-training-course.readthedocs.io/en/latest/polishing/index.html)\n"
   ]
  },
  {
   "cell_type": "code",
   "execution_count": 2,
   "metadata": {},
   "outputs": [
    {
     "data": {
      "text/html": [
       "<img src=\"https://www.ncbi.nlm.nih.gov/pmc/articles/PMC5411768/bin/737f03.jpg\"/>"
      ],
      "text/plain": [
       "<IPython.core.display.Image object>"
      ]
     },
     "execution_count": 2,
     "metadata": {},
     "output_type": "execute_result"
    }
   ],
   "source": [
    "from IPython.display import Image\n",
    "Image(url =\"https://www.ncbi.nlm.nih.gov/pmc/articles/PMC5411768/bin/737f03.jpg\")"
   ]
  },
  {
   "cell_type": "code",
   "execution_count": null,
   "metadata": {},
   "outputs": [],
   "source": [
    "!racon"
   ]
  },
  {
   "cell_type": "markdown",
   "metadata": {},
   "source": [
    "Let us run first `minimap2` to find the positions where our reads map to the assembly and then we will use `racon` to increase the accuracy. Eventually running `dnadiff` will give us the details about the differences against the reference genome.  \n",
    "**Do 4 rounds of Racon**."
   ]
  },
  {
   "cell_type": "markdown",
   "metadata": {},
   "source": [
    "**Round 1**"
   ]
  },
  {
   "cell_type": "code",
   "execution_count": 6,
   "metadata": {},
   "outputs": [
    {
     "name": "stdout",
     "output_type": "stream",
     "text": [
      "[M::mm_idx_gen::0.162*1.01] collected minimizers\n",
      "[M::mm_idx_gen::0.184*1.34] sorted minimizers\n",
      "[M::main::0.184*1.34] loaded/built the index for 1 target sequence(s)\n",
      "[M::mm_mapopt_update::0.192*1.33] mid_occ = 10\n",
      "[M::mm_idx_stat] kmer size: 15; skip: 10; is_hpc: 0; #seq: 1\n",
      "[M::mm_idx_stat::0.199*1.32] distinct minimizers: 728417 (99.14% are singletons); average occurrences: 1.009; average spacing: 5.347; total length: 3931083\n",
      "[M::worker_pipeline::6.801*2.59] mapped 26277 sequences\n",
      "[M::main] Version: 2.24-r1122\n",
      "[M::main] CMD: minimap2 -t 4 -x map-ont bs_assembly_miniasm.fasta data/bacillus_subtilis/bs_reads.fastq.gz\n",
      "[M::main] Real time: 6.823 sec; CPU: 17.615 sec; Peak RSS: 0.233 GB\n",
      "[racon::Polisher::initialize] loaded target sequences 0.035785 s\n",
      "[racon::Polisher::initialize] loaded sequences 4.801240 s\n",
      "[racon::Polisher::initialize] loaded overlaps 0.048462 s\n",
      "[racon::Polisher::initialize] aligning overlaps [====================] 104.317027 s\n",
      "[racon::Polisher::initialize] transformed data into windows 0.358776 s\n",
      "[racon::Polisher::polish] generating consensus [====================] 158.007180 s\n",
      "[racon::Polisher::] total = 267.710516 s\n"
     ]
    }
   ],
   "source": [
    "!minimap2 \\\n",
    "    -t 4 \\\n",
    "    -x map-ont \\\n",
    "    bs_assembly_miniasm.fasta \\\n",
    "    data/bacillus_subtilis/bs_reads.fastq.gz > bs_assembly_miniasm.paf\n",
    "\n",
    "!racon \\\n",
    "    -t 4 \\\n",
    "    data/bacillus_subtilis/bs_reads.fastq.gz \\\n",
    "    bs_assembly_miniasm.paf \\\n",
    "    bs_assembly_miniasm.fasta > bs_assembly_miniasm_r1.fasta"
   ]
  },
  {
   "cell_type": "code",
   "execution_count": 7,
   "metadata": {
    "scrolled": true
   },
   "outputs": [],
   "source": [
    "!dnadiff \\\n",
    "    -p bs_assembly_miniasm_r1 \\\n",
    "    data/bacillus_subtilis/bs_ref.fasta \\\n",
    "    bs_assembly_miniasm_r1.fasta 2> err"
   ]
  },
  {
   "cell_type": "code",
   "execution_count": 8,
   "metadata": {},
   "outputs": [
    {
     "name": "stdout",
     "output_type": "stream",
     "text": [
      "/Users/guyot/Piracicaba_ESALQ_2023/Session_4/data/bacillus_subtilis/bs_ref.fasta /Users/guyot/Piracicaba_ESALQ_2023/Session_4/bs_assembly_miniasm_r1.fasta\r\n",
      "NUCMER\r\n",
      "\r\n",
      "                               [REF]                [QRY]\r\n",
      "[Sequences]\r\n",
      "TotalSeqs                          1                    1\r\n",
      "AlignedSeqs              1(100.0000%)          1(100.0000%)\r\n",
      "UnalignedSeqs             0(0.0000%)           0(0.0000%)\r\n",
      "\r\n",
      "[Bases]\r\n",
      "TotalBases                   4045677              4043714\r\n",
      "AlignedBases       4045093(99.9856%)    4039207(99.8885%)\r\n",
      "UnalignedBases          584(0.0144%)        4507(0.1115%)\r\n",
      "\r\n",
      "[Alignments]\r\n",
      "1-to-1                             6                    6\r\n",
      "TotalLength                  4060621              4039311\r\n",
      "AvgLength                676770.1667          673218.5000\r\n",
      "AvgIdentity                  98.7446              98.7446\r\n",
      "\r\n",
      "M-to-M                             6                    6\r\n",
      "TotalLength                  4060621              4039311\r\n",
      "AvgLength                676770.1667          673218.5000\r\n",
      "AvgIdentity                  98.7446              98.7446\r\n",
      "\r\n",
      "[Feature Estimates]\r\n",
      "Breakpoints                       10                   11\r\n",
      "Relocations                        1                    1\r\n",
      "Translocations                     0                    0\r\n",
      "Inversions                         0                    0\r\n",
      "\r\n",
      "Insertions                         3                    4\r\n",
      "InsertionSum                     687                 4620\r\n",
      "InsertionAvg                229.0000            1155.0000\r\n",
      "\r\n",
      "TandemIns                          1                    0\r\n",
      "TandemInsSum                     103                    0\r\n",
      "TandemInsAvg                103.0000               0.0000\r\n",
      "\r\n",
      "[SNPs]\r\n",
      "TotalSNPs                      13600                13600\r\n",
      "AC                      175(1.2868%)         284(2.0882%)\r\n",
      "AG                    1876(13.7941%)       4578(33.6618%)\r\n",
      "AT                      289(2.1250%)         198(1.4559%)\r\n",
      "GT                      444(3.2647%)         159(1.1691%)\r\n",
      "GA                    4578(33.6618%)       1876(13.7941%)\r\n",
      "GC                      326(2.3971%)         272(2.0000%)\r\n",
      "TC                     1254(9.2206%)       3745(27.5368%)\r\n",
      "TG                      159(1.1691%)         444(3.2647%)\r\n",
      "TA                      198(1.4559%)         289(2.1250%)\r\n",
      "CA                      284(2.0882%)         175(1.2868%)\r\n",
      "CT                    3745(27.5368%)        1254(9.2206%)\r\n",
      "CG                      272(2.0000%)         326(2.3971%)\r\n",
      "\r\n",
      "TotalGSNPs                      5560                 5560\r\n",
      "AT                       49(0.8813%)          20(0.3597%)\r\n",
      "AG                     955(17.1763%)       2053(36.9245%)\r\n",
      "AC                       25(0.4496%)          47(0.8453%)\r\n",
      "GC                       55(0.9892%)          50(0.8993%)\r\n",
      "GT                       81(1.4568%)          24(0.4317%)\r\n",
      "GA                    2053(36.9245%)        955(17.1763%)\r\n",
      "TC                     643(11.5647%)       1558(28.0216%)\r\n",
      "TA                       20(0.3597%)          49(0.8813%)\r\n",
      "TG                       24(0.4317%)          81(1.4568%)\r\n",
      "CA                       47(0.8453%)          25(0.4496%)\r\n",
      "CG                       50(0.8993%)          55(0.9892%)\r\n",
      "CT                    1558(28.0216%)        643(11.5647%)\r\n",
      "\r\n",
      "TotalIndels                    36622                36622\r\n",
      "A.                    4925(13.4482%)        2666(7.2798%)\r\n",
      "G.                   10389(28.3682%)         931(2.5422%)\r\n",
      "T.                     3611(9.8602%)        3282(8.9618%)\r\n",
      "C.                    9892(27.0111%)         926(2.5285%)\r\n",
      ".T                     3282(8.9618%)        3611(9.8602%)\r\n",
      ".G                      931(2.5422%)      10389(28.3682%)\r\n",
      ".A                     2666(7.2798%)       4925(13.4482%)\r\n",
      ".C                      926(2.5285%)       9892(27.0111%)\r\n",
      "\r\n",
      "TotalGIndels                   16537                16537\r\n",
      "A.                    2244(13.5696%)        1013(6.1257%)\r\n",
      "G.                    5340(32.2912%)         262(1.5843%)\r\n",
      "T.                     1436(8.6836%)        1137(6.8755%)\r\n",
      "C.                    4871(29.4552%)         234(1.4150%)\r\n",
      ".A                     1013(6.1257%)       2244(13.5696%)\r\n",
      ".G                      262(1.5843%)       5340(32.2912%)\r\n",
      ".T                     1137(6.8755%)        1436(8.6836%)\r\n",
      ".C                      234(1.4150%)       4871(29.4552%)\r\n"
     ]
    }
   ],
   "source": [
    "!cat bs_assembly_miniasm_r1.report"
   ]
  },
  {
   "cell_type": "markdown",
   "metadata": {},
   "source": [
    "With only one `racon` iteration the accuracy increased from $85.28\\%$ to $98.76\\%$. In addition, the number of break points decreased drastically, the assembly length almost matches the actual reference length, and almost no unalignable bases are left."
   ]
  },
  {
   "cell_type": "markdown",
   "metadata": {},
   "source": [
    "We will run a few more iterations to see how far we can increase the accuracy.  \n",
    "Do several iterations of `Racon`."
   ]
  },
  {
   "cell_type": "markdown",
   "metadata": {},
   "source": [
    "**Round 2**"
   ]
  },
  {
   "cell_type": "code",
   "execution_count": 9,
   "metadata": {},
   "outputs": [
    {
     "name": "stdout",
     "output_type": "stream",
     "text": [
      "[M::mm_idx_gen::0.180*0.99] collected minimizers\n",
      "[M::mm_idx_gen::0.205*1.33] sorted minimizers\n",
      "[M::main::0.205*1.33] loaded/built the index for 1 target sequence(s)\n",
      "[M::mm_mapopt_update::0.218*1.31] mid_occ = 11\n",
      "[M::mm_idx_stat] kmer size: 15; skip: 10; is_hpc: 0; #seq: 1\n",
      "[M::mm_idx_stat::0.231*1.28] distinct minimizers: 737882 (98.44% are singletons); average occurrences: 1.026; average spacing: 5.343; total length: 4043714\n",
      "[M::worker_pipeline::9.321*2.64] mapped 26277 sequences\n",
      "[M::main] Version: 2.24-r1122\n",
      "[M::main] CMD: minimap2 -t 4 -x map-ont bs_assembly_miniasm_r1.fasta data/bacillus_subtilis/bs_reads.fastq.gz\n",
      "[M::main] Real time: 9.349 sec; CPU: 24.617 sec; Peak RSS: 0.233 GB\n",
      "[racon::Polisher::initialize] loaded target sequences 0.054751 s\n",
      "[racon::Polisher::initialize] loaded sequences 5.163677 s\n",
      "[racon::Polisher::initialize] loaded overlaps 0.053287 s\n",
      "[racon::Polisher::initialize] aligning overlaps [====================] 115.560905 s\n",
      "[racon::Polisher::initialize] transformed data into windows 0.485339 s\n",
      "[racon::Polisher::polish] generating consensus [====================] 356.063354 s\n",
      "[racon::Polisher::] total = 477.598795 s\n"
     ]
    }
   ],
   "source": [
    "!minimap2 \\\n",
    "    -t 4 \\\n",
    "    -x map-ont \\\n",
    "    bs_assembly_miniasm_r1.fasta \\\n",
    "    data/bacillus_subtilis/bs_reads.fastq.gz > bs_assembly_miniasm_r1.paf\n",
    "\n",
    "!racon \\\n",
    "    -t 4 \\\n",
    "    data/bacillus_subtilis/bs_reads.fastq.gz \\\n",
    "   bs_assembly_miniasm_r1.paf \\\n",
    "    bs_assembly_miniasm_r1.fasta > bs_assembly_miniasm_r2.fasta"
   ]
  },
  {
   "cell_type": "code",
   "execution_count": 10,
   "metadata": {
    "scrolled": true
   },
   "outputs": [
    {
     "name": "stdout",
     "output_type": "stream",
     "text": [
      "/Users/guyot/Piracicaba_ESALQ_2023/Session_4/data/bacillus_subtilis/bs_ref.fasta /Users/guyot/Piracicaba_ESALQ_2023/Session_4/bs_assembly_miniasm_r2.fasta\r\n",
      "NUCMER\r\n",
      "\r\n",
      "                               [REF]                [QRY]\r\n",
      "[Sequences]\r\n",
      "TotalSeqs                          1                    1\r\n",
      "AlignedSeqs              1(100.0000%)          1(100.0000%)\r\n",
      "UnalignedSeqs             0(0.0000%)           0(0.0000%)\r\n",
      "\r\n",
      "[Bases]\r\n",
      "TotalBases                   4045677              4047139\r\n",
      "AlignedBases       4045677(100.0000%)    4043151(99.9015%)\r\n",
      "UnalignedBases            0(0.0000%)        3988(0.0985%)\r\n",
      "\r\n",
      "[Alignments]\r\n",
      "1-to-1                             3                    3\r\n",
      "TotalLength                  4061092              4043254\r\n",
      "AvgLength               1353697.3333         1347751.3333\r\n",
      "AvgIdentity                  99.0268              99.0268\r\n",
      "\r\n",
      "M-to-M                             3                    3\r\n",
      "TotalLength                  4061092              4043254\r\n",
      "AvgLength               1353697.3333         1347751.3333\r\n",
      "AvgIdentity                  99.0268              99.0268\r\n",
      "\r\n",
      "[Feature Estimates]\r\n",
      "Breakpoints                        4                    5\r\n",
      "Relocations                        1                    1\r\n",
      "Translocations                     0                    0\r\n",
      "Inversions                         0                    0\r\n",
      "\r\n",
      "Insertions                         1                    1\r\n",
      "InsertionSum                     102                 3988\r\n",
      "InsertionAvg                102.0000            3988.0000\r\n",
      "\r\n",
      "TandemIns                          1                    0\r\n",
      "TandemInsSum                     102                    0\r\n",
      "TandemInsAvg                102.0000               0.0000\r\n",
      "\r\n",
      "[SNPs]\r\n",
      "TotalSNPs                      10772                10772\r\n",
      "TA                      123(1.1418%)         170(1.5782%)\r\n",
      "TC                      937(8.6985%)       3011(27.9521%)\r\n",
      "TG                      104(0.9655%)         334(3.1006%)\r\n",
      "GC                      203(1.8845%)         180(1.6710%)\r\n",
      "GA                    3882(36.0379%)       1536(14.2592%)\r\n",
      "GT                      334(3.1006%)         104(0.9655%)\r\n",
      "CT                    3011(27.9521%)         937(8.6985%)\r\n",
      "CG                      180(1.6710%)         203(1.8845%)\r\n",
      "CA                      184(1.7081%)         108(1.0026%)\r\n",
      "AT                      170(1.5782%)         123(1.1418%)\r\n",
      "AC                      108(1.0026%)         184(1.7081%)\r\n",
      "AG                    1536(14.2592%)       3882(36.0379%)\r\n",
      "\r\n",
      "TotalGSNPs                      5077                 5077\r\n",
      "TA                       18(0.3545%)          29(0.5712%)\r\n",
      "TG                       20(0.3939%)          67(1.3197%)\r\n",
      "TC                     557(10.9710%)       1371(27.0041%)\r\n",
      "CG                       41(0.8076%)          47(0.9257%)\r\n",
      "CA                       49(0.9651%)          22(0.4333%)\r\n",
      "CT                    1371(27.0041%)        557(10.9710%)\r\n",
      "GC                       47(0.9257%)          41(0.8076%)\r\n",
      "GA                    1968(38.7630%)        888(17.4906%)\r\n",
      "GT                       67(1.3197%)          20(0.3939%)\r\n",
      "AG                     888(17.4906%)       1968(38.7630%)\r\n",
      "AC                       22(0.4333%)          49(0.9651%)\r\n",
      "AT                       29(0.5712%)          18(0.3545%)\r\n",
      "\r\n",
      "TotalIndels                    27784                27784\r\n",
      "T.                     2176(7.8318%)        2331(8.3897%)\r\n",
      "G.                    8902(32.0400%)         512(1.8428%)\r\n",
      "C.                    8397(30.2224%)         489(1.7600%)\r\n",
      "A.                    3189(11.4778%)        1788(6.4354%)\r\n",
      ".T                     2331(8.3897%)        2176(7.8318%)\r\n",
      ".C                      489(1.7600%)       8397(30.2224%)\r\n",
      ".G                      512(1.8428%)       8902(32.0400%)\r\n",
      ".A                     1788(6.4354%)       3189(11.4778%)\r\n",
      "\r\n",
      "TotalGIndels                   15103                15103\r\n",
      "T.                     1137(7.5283%)         919(6.0849%)\r\n",
      "C.                    4783(31.6692%)         162(1.0726%)\r\n",
      "G.                    5319(35.2182%)         193(1.2779%)\r\n",
      "A.                    1755(11.6202%)         835(5.5287%)\r\n",
      ".A                      835(5.5287%)       1755(11.6202%)\r\n",
      ".G                      193(1.2779%)       5319(35.2182%)\r\n",
      ".C                      162(1.0726%)       4783(31.6692%)\r\n",
      ".T                      919(6.0849%)        1137(7.5283%)\r\n"
     ]
    }
   ],
   "source": [
    "!dnadiff \\\n",
    "    -p bs_assembly_miniasm_r2 \\\n",
    "    data/bacillus_subtilis/bs_ref.fasta \\\n",
    "    bs_assembly_miniasm_r2.fasta 2> err\n",
    "\n",
    "!cat bs_assembly_miniasm_r2.report"
   ]
  },
  {
   "cell_type": "markdown",
   "metadata": {},
   "source": [
    "**Round 3**"
   ]
  },
  {
   "cell_type": "code",
   "execution_count": 11,
   "metadata": {},
   "outputs": [
    {
     "name": "stdout",
     "output_type": "stream",
     "text": [
      "[M::mm_idx_gen::0.640*0.71] collected minimizers\n",
      "[M::mm_idx_gen::0.675*0.84] sorted minimizers\n",
      "[M::main::0.675*0.84] loaded/built the index for 1 target sequence(s)\n",
      "[M::mm_mapopt_update::0.694*0.84] mid_occ = 11\n",
      "[M::mm_idx_stat] kmer size: 15; skip: 10; is_hpc: 0; #seq: 1\n",
      "[M::mm_idx_stat::0.711*0.84] distinct minimizers: 737952 (98.45% are singletons); average occurrences: 1.027; average spacing: 5.342; total length: 4047139\n",
      "[M::worker_pipeline::11.408*2.46] mapped 26277 sequences\n",
      "[M::main] Version: 2.24-r1122\n",
      "[M::main] CMD: minimap2 -t 4 -x map-ont bs_assembly_miniasm_r2.fasta data/bacillus_subtilis/bs_reads.fastq.gz\n",
      "[M::main] Real time: 11.438 sec; CPU: 28.068 sec; Peak RSS: 0.233 GB\n",
      "[racon::Polisher::initialize] loaded target sequences 0.047200 s\n",
      "[racon::Polisher::initialize] loaded sequences 5.278702 s\n",
      "[racon::Polisher::initialize] loaded overlaps 0.043658 s\n",
      "[racon::Polisher::initialize] aligning overlaps [====================] 105.056373 s\n",
      "[racon::Polisher::initialize] transformed data into windows 0.379885 s\n",
      "[racon::Polisher::polish] generating consensus [====================] 340.591849 s\n",
      "[racon::Polisher::] total = 451.666076 s\n"
     ]
    }
   ],
   "source": [
    "!minimap2 \\\n",
    "    -t 4 \\\n",
    "    -x map-ont \\\n",
    "    bs_assembly_miniasm_r2.fasta \\\n",
    "    data/bacillus_subtilis/bs_reads.fastq.gz > bs_assembly_miniasm_r2.paf\n",
    "\n",
    "!racon \\\n",
    "    -t 4 \\\n",
    "    data/bacillus_subtilis/bs_reads.fastq.gz \\\n",
    "   bs_assembly_miniasm_r2.paf \\\n",
    "    bs_assembly_miniasm_r2.fasta > bs_assembly_miniasm_r3.fasta"
   ]
  },
  {
   "cell_type": "code",
   "execution_count": 12,
   "metadata": {},
   "outputs": [
    {
     "name": "stdout",
     "output_type": "stream",
     "text": [
      "cat: bs_assembly_miniasm_r3.report: No such file or directory\r\n"
     ]
    }
   ],
   "source": [
    "!dnadiff \\\n",
    "    -p bs_assembly_miniasm_r3 \\\n",
    "    data/bacillus_subtilis/bs_ref.fasta \\\n",
    "    bs_assembly_miniasm_r3.fasta 2> err\n",
    "\n",
    "!cat bs_assembly_miniasm_r3.report"
   ]
  },
  {
   "cell_type": "code",
   "execution_count": 15,
   "metadata": {},
   "outputs": [
    {
     "name": "stdout",
     "output_type": "stream",
     "text": [
      "/Users/guyot/Piracicaba_ESALQ_2023/Session_4/data/bacillus_subtilis/bs_ref.fasta /Users/guyot/Piracicaba_ESALQ_2023/Session_4/bs_assembly_miniasm_r3.fasta\r\n",
      "NUCMER\r\n",
      "\r\n",
      "                               [REF]                [QRY]\r\n",
      "[Sequences]\r\n",
      "TotalSeqs                          1                    1\r\n",
      "AlignedSeqs              1(100.0000%)          1(100.0000%)\r\n",
      "UnalignedSeqs             0(0.0000%)           0(0.0000%)\r\n",
      "\r\n",
      "[Bases]\r\n",
      "TotalBases                   4045677              4047661\r\n",
      "AlignedBases       4045677(100.0000%)    4043673(99.9015%)\r\n",
      "UnalignedBases            0(0.0000%)        3988(0.0985%)\r\n",
      "\r\n",
      "[Alignments]\r\n",
      "1-to-1                             3                    3\r\n",
      "TotalLength                  4061092              4043776\r\n",
      "AvgLength               1353697.3333         1347925.3333\r\n",
      "AvgIdentity                  99.0676              99.0676\r\n",
      "\r\n",
      "M-to-M                             3                    3\r\n",
      "TotalLength                  4061092              4043776\r\n",
      "AvgLength               1353697.3333         1347925.3333\r\n",
      "AvgIdentity                  99.0676              99.0676\r\n",
      "\r\n",
      "[Feature Estimates]\r\n",
      "Breakpoints                        4                    5\r\n",
      "Relocations                        1                    1\r\n",
      "Translocations                     0                    0\r\n",
      "Inversions                         0                    0\r\n",
      "\r\n",
      "Insertions                         1                    1\r\n",
      "InsertionSum                     102                 3988\r\n",
      "InsertionAvg                102.0000            3988.0000\r\n",
      "\r\n",
      "TandemIns                          1                    0\r\n",
      "TandemInsSum                     102                    0\r\n",
      "TandemInsAvg                102.0000               0.0000\r\n",
      "\r\n",
      "[SNPs]\r\n",
      "TotalSNPs                      10319                10319\r\n",
      "AC                       89(0.8625%)         151(1.4633%)\r\n",
      "AT                      136(1.3180%)         111(1.0757%)\r\n",
      "AG                    1464(14.1874%)       3816(36.9803%)\r\n",
      "GT                      298(2.8879%)          76(0.7365%)\r\n",
      "GC                      190(1.8413%)         160(1.5505%)\r\n",
      "GA                    3816(36.9803%)       1464(14.1874%)\r\n",
      "CT                    2904(28.1423%)         924(8.9544%)\r\n",
      "CA                      151(1.4633%)          89(0.8625%)\r\n",
      "CG                      160(1.5505%)         190(1.8413%)\r\n",
      "TC                      924(8.9544%)       2904(28.1423%)\r\n",
      "TA                      111(1.0757%)         136(1.3180%)\r\n",
      "TG                       76(0.7365%)         298(2.8879%)\r\n",
      "\r\n",
      "TotalGSNPs                      5036                 5036\r\n",
      "GC                       48(0.9531%)          41(0.8141%)\r\n",
      "GT                       62(1.2311%)          17(0.3376%)\r\n",
      "GA                    1963(38.9793%)        873(17.3352%)\r\n",
      "AG                     873(17.3352%)       1963(38.9793%)\r\n",
      "AC                       19(0.3773%)          40(0.7943%)\r\n",
      "AT                       34(0.6751%)          13(0.2581%)\r\n",
      "TG                       17(0.3376%)          62(1.2311%)\r\n",
      "TA                       13(0.2581%)          34(0.6751%)\r\n",
      "TC                     552(10.9611%)       1374(27.2836%)\r\n",
      "CG                       41(0.8141%)          48(0.9531%)\r\n",
      "CA                       40(0.7943%)          19(0.3773%)\r\n",
      "CT                    1374(27.2836%)        552(10.9611%)\r\n",
      "\r\n",
      "TotalIndels                    26725                26725\r\n",
      "A.                    3010(11.2629%)        1717(6.4247%)\r\n",
      "G.                    8699(32.5500%)         477(1.7848%)\r\n",
      "C.                    8167(30.5594%)         426(1.5940%)\r\n",
      "T.                     2002(7.4911%)        2227(8.3330%)\r\n",
      ".G                      477(1.7848%)       8699(32.5500%)\r\n",
      ".A                     1717(6.4247%)       3010(11.2629%)\r\n",
      ".T                     2227(8.3330%)        2002(7.4911%)\r\n",
      ".C                      426(1.5940%)       8167(30.5594%)\r\n",
      "\r\n",
      "TotalGIndels                   14999                14999\r\n",
      "G.                    5353(35.6890%)         203(1.3534%)\r\n",
      "A.                    1726(11.5074%)         791(5.2737%)\r\n",
      "T.                     1101(7.3405%)         909(6.0604%)\r\n",
      "C.                    4770(31.8021%)         146(0.9734%)\r\n",
      ".G                      203(1.3534%)       5353(35.6890%)\r\n",
      ".A                      791(5.2737%)       1726(11.5074%)\r\n",
      ".T                      909(6.0604%)        1101(7.3405%)\r\n",
      ".C                      146(0.9734%)       4770(31.8021%)\r\n"
     ]
    }
   ],
   "source": [
    "!cat bs_assembly_miniasm_3.report"
   ]
  },
  {
   "cell_type": "markdown",
   "metadata": {},
   "source": [
    "**Round 4**"
   ]
  },
  {
   "cell_type": "code",
   "execution_count": 13,
   "metadata": {},
   "outputs": [
    {
     "name": "stdout",
     "output_type": "stream",
     "text": [
      "[M::mm_idx_gen::0.313*0.92] collected minimizers\n",
      "[M::mm_idx_gen::0.337*1.14] sorted minimizers\n",
      "[M::main::0.337*1.14] loaded/built the index for 1 target sequence(s)\n",
      "[M::mm_mapopt_update::0.353*1.13] mid_occ = 11\n",
      "[M::mm_idx_stat] kmer size: 15; skip: 10; is_hpc: 0; #seq: 1\n",
      "[M::mm_idx_stat::0.368*1.12] distinct minimizers: 737911 (98.46% are singletons); average occurrences: 1.027; average spacing: 5.342; total length: 4047661\n",
      "[M::worker_pipeline::34.581*1.29] mapped 26277 sequences\n",
      "[M::main] Version: 2.24-r1122\n",
      "[M::main] CMD: minimap2 -t 4 -x map-ont bs_assembly_miniasm_r3.fasta data/bacillus_subtilis/bs_reads.fastq.gz\n",
      "[M::main] Real time: 34.616 sec; CPU: 44.579 sec; Peak RSS: 0.233 GB\n",
      "[racon::Polisher::initialize] loaded target sequences 0.076103 s\n",
      "[racon::Polisher::initialize] loaded sequences 15.133805 s\n",
      "[racon::Polisher::initialize] loaded overlaps 0.125352 s\n",
      "[racon::Polisher::initialize] aligning overlaps [====================] 178.464364 s\n",
      "[racon::Polisher::initialize] transformed data into windows 0.308335 s\n",
      "[racon::Polisher::polish] generating consensus [====================] 184.340539 s\n",
      "[racon::Polisher::] total = 378.570601 s\n"
     ]
    }
   ],
   "source": [
    "!minimap2 \\\n",
    "    -t 4 \\\n",
    "    -x map-ont \\\n",
    "    bs_assembly_miniasm_r3.fasta \\\n",
    "    data/bacillus_subtilis/bs_reads.fastq.gz > bs_assembly_miniasm_r3.paf\n",
    "\n",
    "!racon \\\n",
    "    -t 4 \\\n",
    "    data/bacillus_subtilis/bs_reads.fastq.gz \\\n",
    "   bs_assembly_miniasm_r3.paf \\\n",
    "    bs_assembly_miniasm_r3.fasta > bs_assembly_miniasm_r4.fasta"
   ]
  },
  {
   "cell_type": "code",
   "execution_count": 14,
   "metadata": {},
   "outputs": [
    {
     "name": "stdout",
     "output_type": "stream",
     "text": [
      "cat: bs_assembly_miniasm_r4.report: No such file or directory\r\n"
     ]
    }
   ],
   "source": [
    "!dnadiff \\\n",
    "    -p bs_assembly_miniasm_r4 \\\n",
    "    data/bacillus_subtilis/bs_ref.fasta \\\n",
    "    bs_assembly_miniasm_r4.fasta 2> err\n",
    "\n",
    "!cat bs_assembly_miniasm_r4.report"
   ]
  },
  {
   "cell_type": "code",
   "execution_count": 16,
   "metadata": {},
   "outputs": [
    {
     "name": "stdout",
     "output_type": "stream",
     "text": [
      "/Users/guyot/Piracicaba_ESALQ_2023/Session_4/data/bacillus_subtilis/bs_ref.fasta /Users/guyot/Piracicaba_ESALQ_2023/Session_4/bs_assembly_miniasm_r4.fasta\r\n",
      "NUCMER\r\n",
      "\r\n",
      "                               [REF]                [QRY]\r\n",
      "[Sequences]\r\n",
      "TotalSeqs                          1                    1\r\n",
      "AlignedSeqs              1(100.0000%)          1(100.0000%)\r\n",
      "UnalignedSeqs             0(0.0000%)           0(0.0000%)\r\n",
      "\r\n",
      "[Bases]\r\n",
      "TotalBases                   4045677              4047966\r\n",
      "AlignedBases       4045677(100.0000%)    4043978(99.9015%)\r\n",
      "UnalignedBases            0(0.0000%)        3988(0.0985%)\r\n",
      "\r\n",
      "[Alignments]\r\n",
      "1-to-1                             3                    3\r\n",
      "TotalLength                  4061092              4044080\r\n",
      "AvgLength               1353697.3333         1348026.6667\r\n",
      "AvgIdentity                  99.0749              99.0749\r\n",
      "\r\n",
      "M-to-M                             3                    3\r\n",
      "TotalLength                  4061092              4044080\r\n",
      "AvgLength               1353697.3333         1348026.6667\r\n",
      "AvgIdentity                  99.0749              99.0749\r\n",
      "\r\n",
      "[Feature Estimates]\r\n",
      "Breakpoints                        4                    5\r\n",
      "Relocations                        1                    1\r\n",
      "Translocations                     0                    0\r\n",
      "Inversions                         0                    0\r\n",
      "\r\n",
      "Insertions                         1                    1\r\n",
      "InsertionSum                     101                 3988\r\n",
      "InsertionAvg                101.0000            3988.0000\r\n",
      "\r\n",
      "TandemIns                          1                    0\r\n",
      "TandemInsSum                     101                    0\r\n",
      "TandemInsAvg                101.0000               0.0000\r\n",
      "\r\n",
      "[SNPs]\r\n",
      "TotalSNPs                      10208                10208\r\n",
      "GT                      294(2.8801%)          75(0.7347%)\r\n",
      "GA                    3780(37.0298%)       1482(14.5180%)\r\n",
      "GC                      186(1.8221%)         148(1.4498%)\r\n",
      "TC                      896(8.7774%)       2859(28.0074%)\r\n",
      "TA                       94(0.9208%)         140(1.3715%)\r\n",
      "TG                       75(0.7347%)         294(2.8801%)\r\n",
      "AC                       95(0.9306%)         159(1.5576%)\r\n",
      "AG                    1482(14.5180%)       3780(37.0298%)\r\n",
      "AT                      140(1.3715%)          94(0.9208%)\r\n",
      "CT                    2859(28.0074%)         896(8.7774%)\r\n",
      "CG                      148(1.4498%)         186(1.8221%)\r\n",
      "CA                      159(1.5576%)          95(0.9306%)\r\n",
      "\r\n",
      "TotalGSNPs                      5017                 5017\r\n",
      "CG                       42(0.8372%)          49(0.9767%)\r\n",
      "CT                    1342(26.7491%)        548(10.9229%)\r\n",
      "CA                       40(0.7973%)          18(0.3588%)\r\n",
      "AT                       34(0.6777%)          10(0.1993%)\r\n",
      "AG                     886(17.6600%)       1955(38.9675%)\r\n",
      "AC                       18(0.3588%)          40(0.7973%)\r\n",
      "GA                    1955(38.9675%)        886(17.6600%)\r\n",
      "GT                       76(1.5148%)          17(0.3388%)\r\n",
      "GC                       49(0.9767%)          42(0.8372%)\r\n",
      "TA                       10(0.1993%)          34(0.6777%)\r\n",
      "TG                       17(0.3388%)          76(1.5148%)\r\n",
      "TC                     548(10.9229%)       1342(26.7491%)\r\n",
      "\r\n",
      "TotalIndels                    26534                26534\r\n",
      "G.                    8650(32.5997%)         473(1.7826%)\r\n",
      "T.                     1910(7.1983%)        2259(8.5136%)\r\n",
      "A.                    2952(11.1253%)        1706(6.4295%)\r\n",
      "C.                    8120(30.6022%)         464(1.7487%)\r\n",
      ".C                      464(1.7487%)       8120(30.6022%)\r\n",
      ".T                     2259(8.5136%)        1910(7.1983%)\r\n",
      ".G                      473(1.7826%)       8650(32.5997%)\r\n",
      ".A                     1706(6.4295%)       2952(11.1253%)\r\n",
      "\r\n",
      "TotalGIndels                   15080                15080\r\n",
      "C.                    4811(31.9032%)         168(1.1141%)\r\n",
      "A.                    1726(11.4456%)         788(5.2255%)\r\n",
      "G.                    5401(35.8156%)         188(1.2467%)\r\n",
      "T.                     1075(7.1286%)         923(6.1207%)\r\n",
      ".C                      168(1.1141%)       4811(31.9032%)\r\n",
      ".A                      788(5.2255%)       1726(11.4456%)\r\n",
      ".T                      923(6.1207%)        1075(7.1286%)\r\n",
      ".G                      188(1.2467%)       5401(35.8156%)\r\n"
     ]
    }
   ],
   "source": [
    "!cat bs_assembly_miniasm_4.report"
   ]
  },
  {
   "cell_type": "markdown",
   "metadata": {},
   "source": [
    "# POLISHING WITH MEDAKA"
   ]
  },
  {
   "cell_type": "markdown",
   "metadata": {},
   "source": [
    "`medaka` is a tool to create consensus sequences and variant calls from nanopore sequencing data. This task is performed using neural networks applied a pileup of individual sequencing reads against a draft assembly. It provides state-of-the-art results outperforming sequence-graph based methods and signal-based methods, whilst also being faster.\n",
    "\n",
    "(see https://github.com/nanoporetech/medaka)"
   ]
  },
  {
   "cell_type": "markdown",
   "metadata": {},
   "source": [
    "Medaka is not compatible with the curso_4 env. **A new environment is necessary**. In a new terminal type : "
   ]
  },
  {
   "cell_type": "markdown",
   "metadata": {},
   "source": [
    "!conda create -y --name medaka python=3.6 "
   ]
  },
  {
   "cell_type": "markdown",
   "metadata": {},
   "source": [
    "!conda install -y -n medaka medaka jupyter"
   ]
  },
  {
   "cell_type": "markdown",
   "metadata": {},
   "source": [
    "!conda activate medaka"
   ]
  },
  {
   "cell_type": "markdown",
   "metadata": {},
   "source": [
    "!jupyter notebook &"
   ]
  },
  {
   "cell_type": "code",
   "execution_count": null,
   "metadata": {},
   "outputs": [],
   "source": [
    "!medaka_consensus -h"
   ]
  },
  {
   "cell_type": "code",
   "execution_count": null,
   "metadata": {
    "scrolled": false
   },
   "outputs": [],
   "source": [
    "!medaka_consensus \\\n",
    "    -i data/bacillus_subtilis/bs_reads.fastq.gz \\\n",
    "    -d bs_assembly_miniasm_r4.fasta \\\n",
    "    -m r10_min_high_g340 \\\n",
    "    -t 4 \\\n",
    "    -o bs_miniasm_medaka \\\n",
    "    -f"
   ]
  },
  {
   "cell_type": "code",
   "execution_count": null,
   "metadata": {},
   "outputs": [],
   "source": [
    "!ls bs_miniasm_medaka"
   ]
  },
  {
   "cell_type": "code",
   "execution_count": null,
   "metadata": {},
   "outputs": [],
   "source": [
    "!dnadiff \\\n",
    "    -p bs_miniasm_medaka \\\n",
    "    data/bacillus_subtilis/bs_ref.fasta \\\n",
    "    bs_miniasm_medaka/consensus.fasta 2> err\n",
    "\n",
    "!cat bs_miniasm_medaka.report"
   ]
  },
  {
   "cell_type": "markdown",
   "metadata": {},
   "source": [
    "Let us try running `medaka` directly on the unpolished assembly."
   ]
  },
  {
   "cell_type": "code",
   "execution_count": null,
   "metadata": {},
   "outputs": [],
   "source": [
    "!medaka_consensus \\\n",
    "    -i data/bacillus_subtilis/bs_reads.fastq.gz \\\n",
    "    -d data/bacillus_subtilis/ bs_assembly_miniasm.fasta \\\n",
    "    -m r10_min_high_g340 \\\n",
    "    -t 4 \\\n",
    "    -o bs_raw_miniasm_medaka \\\n",
    "    -f"
   ]
  },
  {
   "cell_type": "code",
   "execution_count": null,
   "metadata": {},
   "outputs": [],
   "source": [
    "!dnadiff \\\n",
    "    -p bs_raw_miniasm_medaka \\\n",
    "    data/bacillus_subtilis/bs_ref.fasta \\\n",
    "    bs_raw_miniasm_medaka/consensus.fasta 2> err\n",
    "\n",
    "!cat bs_raw_miniasm_medaka.report"
   ]
  },
  {
   "cell_type": "markdown",
   "metadata": {},
   "source": [
    "# POLISHING WITH NANOPOLISH"
   ]
  },
  {
   "cell_type": "markdown",
   "metadata": {},
   "source": [
    "With the fact that `nanopolish`-ing takes a lot of time, we will not run it.  \n",
    "(see https://github.com/jts/nanopolishan).  \n",
    "Software package for signal-level analysis of Oxford Nanopore sequencing data. Nanopolish can calculate an improved consensus sequence for a draft genome assembly, detect base modifications, call SNPs and indels with respect to a reference genome and more (see Nanopolish modules, below)."
   ]
  },
  {
   "cell_type": "code",
   "execution_count": null,
   "metadata": {},
   "outputs": [],
   "source": [
    "!nanopolish --help"
   ]
  },
  {
   "cell_type": "markdown",
   "metadata": {},
   "source": [
    "First we need to let `nanopolish` connect the raw data (fast5) and the basecalled data. "
   ]
  },
  {
   "cell_type": "markdown",
   "metadata": {},
   "source": [
    "# OTHERS TOOLS"
   ]
  },
  {
   "cell_type": "markdown",
   "metadata": {},
   "source": [
    "**[Pilon](https://github.com/broadinstitute/pilon)**.  **With Illumina data**.  \n",
    "(see https://denbi-nanopore-training-course.readthedocs.io/en/latest/polishing/pilon/index.html)."
   ]
  },
  {
   "cell_type": "markdown",
   "metadata": {},
   "source": [
    "# Comparative evaluation of Nanopore polishing tools"
   ]
  },
  {
   "cell_type": "markdown",
   "metadata": {},
   "source": [
    "See https://doi.org/10.1038/s41598-021-00178-w "
   ]
  },
  {
   "cell_type": "code",
   "execution_count": null,
   "metadata": {},
   "outputs": [],
   "source": [
    "from IPython.display import Image\n",
    "Image(url = \"https://media.springernature.com/full/springer-static/image/art%3A10.1038%2Fs41598-021-00178-w/MediaObjects/41598_2021_178_Fig1_HTML.png?as=webp\")"
   ]
  },
  {
   "cell_type": "markdown",
   "metadata": {},
   "source": [
    "______________________________________________________________________________________"
   ]
  },
  {
   "cell_type": "markdown",
   "metadata": {},
   "source": [
    "**RESULTS**"
   ]
  },
  {
   "cell_type": "markdown",
   "metadata": {},
   "source": [
    "Complete the following results table :"
   ]
  },
  {
   "cell_type": "markdown",
   "metadata": {},
   "source": [
    "|Assembly Tools| Raw reads | Corrected reads| Number of SNPs | Polishing tools | R1 SNP| R2 SNP | R3 SNP | R4 SNP |Medaka|\n",
    "|---|---|---|---|---|---|---|---|---|---|\n",
    "| Minimap/Miniasm| x| | 303000| Racon| 13000 | 10000| 10000 | 10000 | 1423 |\n",
    "| Flye| x| | 8400  | Racon |9556 | | | |\n",
    "| Flye| x| | 8400  | Medaka | 1030 | | | |\n",
    "| Flye/Canu| | x| 10839| Racon | 9635 | | | |\n",
    "| Flye/Canu| | x| 10839 |Medaka |1012 | | | | |\n",
    "| Raven| x| | 307018| | | | | |\n",
    "| Raven/Canu| | x| 56741| | | | | | |\n",
    "| Canu| | x| 13081| Racon| 9965 | | | | 1369 |\n",
    "| Canu| | x| 13081| Medaka| 1873 | | | |\n",
    "| Shasta| x| | | | | | | | |\n",
    "| Shasta/Canu| | x| | | | | | | |\n",
    "| | | | | | | | | | |\n",
    "| | | | | |  | | | |"
   ]
  },
  {
   "cell_type": "code",
   "execution_count": null,
   "metadata": {},
   "outputs": [],
   "source": []
  }
 ],
 "metadata": {
  "kernelspec": {
   "display_name": "Python 3",
   "language": "python",
   "name": "python3"
  },
  "language_info": {
   "codemirror_mode": {
    "name": "ipython",
    "version": 3
   },
   "file_extension": ".py",
   "mimetype": "text/x-python",
   "name": "python",
   "nbconvert_exporter": "python",
   "pygments_lexer": "ipython3",
   "version": "3.8.8"
  }
 },
 "nbformat": 4,
 "nbformat_minor": 4
}
