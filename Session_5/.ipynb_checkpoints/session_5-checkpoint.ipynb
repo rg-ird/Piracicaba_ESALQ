{
 "cells": [
  {
   "cell_type": "markdown",
   "metadata": {},
   "source": [
    "# SESSION 5"
   ]
  },
  {
   "cell_type": "markdown",
   "metadata": {},
   "source": [
    "Prerequisites: In a terminal, You need to create, install biopython and activate the `Conda` env as follow before to start jupyter"
   ]
  },
  {
   "cell_type": "markdown",
   "metadata": {},
   "source": [
    "**We will create a new env called curso_5**"
   ]
  },
  {
   "cell_type": "markdown",
   "metadata": {},
   "source": [
    "!conda create -y --name curso_5"
   ]
  },
  {
   "cell_type": "markdown",
   "metadata": {},
   "source": [
    "!conda install -y -n curso_5 -c bioconda jupyter quast busco"
   ]
  },
  {
   "cell_type": "markdown",
   "metadata": {},
   "source": [
    "!conda activate curso_5"
   ]
  },
  {
   "cell_type": "markdown",
   "metadata": {},
   "source": [
    "!jupyter notebook &"
   ]
  },
  {
   "cell_type": "markdown",
   "metadata": {},
   "source": [
    "# Quality assessment with QUAST"
   ]
  },
  {
   "cell_type": "markdown",
   "metadata": {},
   "source": [
    "So far we have used `dnadiff` from the `mummer` package to evaluate our assembly given the reference genome. We obitaned the average accuracy, number of break points, number of SNPs and indels. A similar tool for meassuring the quality of an assembly is `quast`, which can be run with or without the reference file. It will yield a summary that describes how fragmented is the assembly. This is incorporated in the NG50 value (N50 without a reference), which is almost always used to compare different assemblers. It equalst the lenght of the smallest contig which together with all longer contigs covers $50\\%$ of the genome. When given the reference genome, `quast` will also tell us the number of translocations, relocations and inversions, and the percentage of mismatches and indels.  \n",
    "(see https://github.com/ablab/quast)"
   ]
  },
  {
   "cell_type": "markdown",
   "metadata": {},
   "source": [
    "To be able to run `quast` you need a `conda` environment with `quast` package installed."
   ]
  },
  {
   "cell_type": "code",
   "execution_count": 1,
   "metadata": {},
   "outputs": [
    {
     "name": "stdout",
     "output_type": "stream",
     "text": [
      "QUAST: Quality Assessment Tool for Genome Assemblies\r\n",
      "Version: 5.2.0\r\n",
      "\r\n",
      "Usage: python /opt/anaconda3/envs/curso_5/bin/quast [options] <files_with_contigs>\r\n",
      "\r\n",
      "Options:\r\n",
      "-o  --output-dir  <dirname>       Directory to store all result files [default: quast_results/results_<datetime>]\r\n",
      "-r                <filename>      Reference genome file\r\n",
      "-g  --features [type:]<filename>  File with genomic feature coordinates in the reference (GFF, BED, NCBI or TXT)\r\n",
      "                                  Optional 'type' can be specified for extracting only a specific feature type from GFF\r\n",
      "-m  --min-contig  <int>           Lower threshold for contig length [default: 500]\r\n",
      "-t  --threads     <int>           Maximum number of threads [default: 25% of CPUs]\r\n",
      "\r\n",
      "Advanced options:\r\n",
      "-s  --split-scaffolds                 Split assemblies by continuous fragments of N's and add such \"contigs\" to the comparison\r\n",
      "-l  --labels \"label, label, ...\"      Names of assemblies to use in reports, comma-separated. If contain spaces, use quotes\r\n",
      "-L                                    Take assembly names from their parent directory names\r\n",
      "-e  --eukaryote                       Genome is eukaryotic (primarily affects gene prediction)\r\n",
      "    --fungus                          Genome is fungal (primarily affects gene prediction)\r\n",
      "    --large                           Use optimal parameters for evaluation of large genomes\r\n",
      "                                      In particular, imposes '-e -m 3000 -i 500 -x 7000' (can be overridden manually)\r\n",
      "-k  --k-mer-stats                     Compute k-mer-based quality metrics (recommended for large genomes)\r\n",
      "                                      This may significantly increase memory and time consumption on large genomes\r\n",
      "    --k-mer-size                      Size of k used in --k-mer-stats [default: 101]\r\n",
      "    --circos                          Draw Circos plot\r\n",
      "-f  --gene-finding                    Predict genes using GeneMarkS (prokaryotes, default) or GeneMark-ES (eukaryotes, use --eukaryote)\r\n",
      "    --mgm                             Use MetaGeneMark for gene prediction (instead of the default finder, see above)\r\n",
      "    --glimmer                         Use GlimmerHMM for gene prediction (instead of the default finder, see above)\r\n",
      "    --gene-thresholds <int,int,...>   Comma-separated list of threshold lengths of genes to search with Gene Finding module\r\n",
      "                                      [default: 0,300,1500,3000]\r\n",
      "    --rna-finding                     Predict ribosomal RNA genes using Barrnap\r\n",
      "-b  --conserved-genes-finding         Count conserved orthologs using BUSCO (only on Linux)\r\n",
      "    --operons  <filename>             File with operon coordinates in the reference (GFF, BED, NCBI or TXT)\r\n",
      "    --est-ref-size <int>              Estimated reference size (for computing NGx metrics without a reference)\r\n",
      "    --contig-thresholds <int,int,...> Comma-separated list of contig length thresholds [default: 0,1000,5000,10000,25000,50000]\r\n",
      "    --x-for-Nx <int>                  Value of 'x' for Nx, Lx, etc metrics reported in addition to N50, L50, etc (0, 100) [default: 90]\r\n",
      "-u  --use-all-alignments              Compute genome fraction, # genes, # operons in QUAST v1.* style.\r\n",
      "                                      By default, QUAST filters Minimap's alignments to keep only best ones\r\n",
      "-i  --min-alignment <int>             The minimum alignment length [default: 65]\r\n",
      "    --min-identity <float>            The minimum alignment identity (80.0, 100.0) [default: 95.0]\r\n",
      "-a  --ambiguity-usage <none|one|all>  Use none, one, or all alignments of a contig when all of them\r\n",
      "                                      are almost equally good (see --ambiguity-score) [default: one]\r\n",
      "    --ambiguity-score <float>         Score S for defining equally good alignments of a single contig. All alignments are sorted \r\n",
      "                                      by decreasing LEN * IDY% value. All alignments with LEN * IDY% < S * best(LEN * IDY%) are \r\n",
      "                                      discarded. S should be between 0.8 and 1.0 [default: 0.99]\r\n",
      "    --strict-NA                       Break contigs in any misassembly event when compute NAx and NGAx.\r\n",
      "                                      By default, QUAST breaks contigs only by extensive misassemblies (not local ones)\r\n",
      "-x  --extensive-mis-size  <int>       Lower threshold for extensive misassembly size. All relocations with inconsistency\r\n",
      "                                      less than extensive-mis-size are counted as local misassemblies [default: 1000]\r\n",
      "    --local-mis-size  <int>           Lower threshold on local misassembly size. Local misassemblies with inconsistency\r\n",
      "                                      less than local-mis-size are counted as (long) indels [default: 200]\r\n",
      "    --scaffold-gap-max-size  <int>    Max allowed scaffold gap length difference. All relocations with inconsistency\r\n",
      "                                      less than scaffold-gap-size are counted as scaffold gap misassemblies [default: 10000]\r\n",
      "    --unaligned-part-size  <int>      Lower threshold for detecting partially unaligned contigs. Such contig should have\r\n",
      "                                      at least one unaligned fragment >= the threshold [default: 500]\r\n",
      "    --skip-unaligned-mis-contigs      Do not distinguish contigs with >= 50% unaligned bases as a separate group\r\n",
      "                                      By default, QUAST does not count misassemblies in them\r\n",
      "    --fragmented                      Reference genome may be fragmented into small pieces (e.g. scaffolded reference) \r\n",
      "    --fragmented-max-indent  <int>    Mark translocation as fake if both alignments are located no further than N bases \r\n",
      "                                      from the ends of the reference fragments [default: 200]\r\n",
      "                                      Requires --fragmented option\r\n",
      "    --upper-bound-assembly            Simulate upper bound assembly based on the reference genome and reads\r\n",
      "    --upper-bound-min-con  <int>      Minimal number of 'connecting reads' needed for joining upper bound contigs into a scaffold\r\n",
      "                                      [default: 2 for mate-pairs and 1 for long reads]\r\n",
      "    --est-insert-size  <int>          Use provided insert size in upper bound assembly simulation [default: auto detect from reads or 255]\r\n",
      "    --report-all-metrics              Keep all quality metrics in the main report even if their values are '-' for all assemblies or \r\n",
      "                                      if they are not applicable (e.g., reference-based metrics in the no-reference mode)\r\n",
      "    --plots-format  <str>             Save plots in specified format [default: pdf].\r\n",
      "                                      Supported formats: emf, eps, pdf, png, ps, raw, rgba, svg, svgz\r\n",
      "    --memory-efficient                Run everything using one thread, separately per each assembly.\r\n",
      "                                      This may significantly reduce memory consumption on large genomes\r\n",
      "    --space-efficient                 Create only reports and plots files. Aux files including .stdout, .stderr, .coords will not be created.\r\n",
      "                                      This may significantly reduce space consumption on large genomes. Icarus viewers also will not be built\r\n",
      "-1  --pe1     <filename>              File with forward paired-end reads (in FASTQ format, may be gzipped)\r\n",
      "-2  --pe2     <filename>              File with reverse paired-end reads (in FASTQ format, may be gzipped)\r\n",
      "    --pe12    <filename>              File with interlaced forward and reverse paired-end reads. (in FASTQ format, may be gzipped)\r\n",
      "    --mp1     <filename>              File with forward mate-pair reads (in FASTQ format, may be gzipped)\r\n",
      "    --mp2     <filename>              File with reverse mate-pair reads (in FASTQ format, may be gzipped)\r\n",
      "    --mp12    <filename>              File with interlaced forward and reverse mate-pair reads (in FASTQ format, may be gzipped)\r\n",
      "    --single  <filename>              File with unpaired short reads (in FASTQ format, may be gzipped)\r\n",
      "    --pacbio     <filename>           File with PacBio reads (in FASTQ format, may be gzipped)\r\n",
      "    --nanopore   <filename>           File with Oxford Nanopore reads (in FASTQ format, may be gzipped)\r\n",
      "    --ref-sam <filename>              SAM alignment file obtained by aligning reads to reference genome file\r\n",
      "    --ref-bam <filename>              BAM alignment file obtained by aligning reads to reference genome file\r\n",
      "    --sam     <filename,filename,...> Comma-separated list of SAM alignment files obtained by aligning reads to assemblies\r\n",
      "                                      (use the same order as for files with contigs)\r\n",
      "    --bam     <filename,filename,...> Comma-separated list of BAM alignment files obtained by aligning reads to assemblies\r\n",
      "                                      (use the same order as for files with contigs)\r\n",
      "                                      Reads (or SAM/BAM file) are used for structural variation detection and\r\n",
      "                                      coverage histogram building in Icarus\r\n",
      "    --sv-bedpe  <filename>            File with structural variations (in BEDPE format)\r\n",
      "\r\n",
      "Speedup options:\r\n",
      "    --no-check                        Do not check and correct input fasta files. Use at your own risk (see manual)\r\n",
      "    --no-plots                        Do not draw plots\r\n",
      "    --no-html                         Do not build html reports and Icarus viewers\r\n",
      "    --no-icarus                       Do not build Icarus viewers\r\n",
      "    --no-snps                         Do not report SNPs (may significantly reduce memory consumption on large genomes)\r\n",
      "    --no-gc                           Do not compute GC% and GC-distribution\r\n",
      "    --no-sv                           Do not run structural variation detection (make sense only if reads are specified)\r\n",
      "    --no-read-stats                   Do not align reads to assemblies\r\n",
      "                                      Reads will be aligned to reference and used for coverage analysis,\r\n",
      "                                      upper bound assembly simulation, and structural variation detection.\r\n",
      "                                      Use this option if you do not need read statistics for assemblies.\r\n",
      "    --fast                            A combination of all speedup options except --no-check\r\n",
      "\r\n",
      "Other:\r\n",
      "    --silent                          Do not print detailed information about each step to stdout (log file is not affected)\r\n",
      "    --test                            Run QUAST on the data from the test_data folder, output to quast_test_output\r\n",
      "    --test-sv                         Run QUAST with structural variants detection on the data from the test_data folder,\r\n",
      "                                      output to quast_test_output\r\n",
      "-h  --help                            Print full usage message\r\n",
      "-v  --version                         Print version\r\n",
      "\r\n",
      "Online QUAST manual is available at http://quast.sf.net/manual\r\n"
     ]
    }
   ],
   "source": [
    "!quast -h"
   ]
  },
  {
   "cell_type": "code",
   "execution_count": 2,
   "metadata": {},
   "outputs": [
    {
     "name": "stdout",
     "output_type": "stream",
     "text": [
      "/opt/anaconda3/envs/curso_5/bin/quast -t 4 --fast --silent -o bs_assembly_miniasm bs_assembly_miniasm.fasta\n",
      "\n",
      "\n",
      "System information:\n",
      "  OS: Darwin-22.2.0-x86_64-i386-64bit (macosx)\n",
      "  Python version: 3.7.12\n",
      "  CPUs number: 4\n",
      "\n",
      "Started: 2023-01-26 11:00:42\n",
      "\n",
      "Logging to /Users/guyot/FORMATION/Cours_Nanopore_Londrina/SESSION_5/bs_assembly_miniasm/quast.log\n",
      "\n",
      "CWD: /Users/guyot/FORMATION/Cours_Nanopore_Londrina/SESSION_5\n",
      "Main parameters: \n",
      "  MODE: default, threads: 4, min contig length: 500, min alignment length: 65, min alignment IDY: 95.0, \\\n",
      "  ambiguity: one, min local misassembly length: 200, min extensive misassembly length: 1000\n",
      "\n",
      "Contigs:\n",
      "  Pre-processing...\n",
      "  bs_assembly_miniasm.fasta ==> bs_assembly_miniasm\n",
      "\n",
      "2023-01-26 11:00:47\n",
      "Running Basic statistics processor...\n",
      "Done.\n",
      "\n",
      "NOTICE: Genes are not predicted by default. Use --gene-finding or --glimmer option to enable it.\n",
      "\n",
      "2023-01-26 11:00:47\n",
      "RESULTS:\n",
      "  Text versions of total report are saved to /Users/guyot/FORMATION/Cours_Nanopore_Londrina/SESSION_5/bs_assembly_miniasm/report.txt, report.tsv, and report.tex\n",
      "  Text versions of transposed total report are saved to /Users/guyot/FORMATION/Cours_Nanopore_Londrina/SESSION_5/bs_assembly_miniasm/transposed_report.txt, transposed_report.tsv, and transposed_report.tex\n",
      "  Log is saved to /Users/guyot/FORMATION/Cours_Nanopore_Londrina/SESSION_5/bs_assembly_miniasm/quast.log\n",
      "\n",
      "Finished: 2023-01-26 11:00:47\n",
      "Elapsed time: 0:00:05.563184\n",
      "NOTICEs: 1; WARNINGs: 0; non-fatal ERRORs: 0\n",
      "\n",
      "Thank you for using QUAST!\n"
     ]
    }
   ],
   "source": [
    "!quast \\\n",
    "    -t 4 \\\n",
    "    --fast \\\n",
    "    --silent \\\n",
    "    -o bs_assembly_miniasm \\\n",
    "    bs_assembly_miniasm.fasta"
   ]
  },
  {
   "cell_type": "code",
   "execution_count": 3,
   "metadata": {},
   "outputs": [
    {
     "name": "stdout",
     "output_type": "stream",
     "text": [
      "All statistics are based on contigs of size >= 500 bp, unless otherwise noted (e.g., \"# contigs (>= 0 bp)\" and \"Total length (>= 0 bp)\" include all contigs).\r\n",
      "\r\n",
      "Assembly                    bs_assembly_miniasm\r\n",
      "# contigs (>= 0 bp)         1                  \r\n",
      "# contigs (>= 1000 bp)      1                  \r\n",
      "# contigs (>= 5000 bp)      1                  \r\n",
      "# contigs (>= 10000 bp)     1                  \r\n",
      "# contigs (>= 25000 bp)     1                  \r\n",
      "# contigs (>= 50000 bp)     1                  \r\n",
      "Total length (>= 0 bp)      3931083            \r\n",
      "Total length (>= 1000 bp)   3931083            \r\n",
      "Total length (>= 5000 bp)   3931083            \r\n",
      "Total length (>= 10000 bp)  3931083            \r\n",
      "Total length (>= 25000 bp)  3931083            \r\n",
      "Total length (>= 50000 bp)  3931083            \r\n",
      "# contigs                   1                  \r\n",
      "Largest contig              3931083            \r\n",
      "Total length                3931083            \r\n",
      "N50                         3931083            \r\n",
      "N90                         3931083            \r\n",
      "auN                         3931083.0          \r\n",
      "L50                         1                  \r\n",
      "L90                         1                  \r\n",
      "# N's per 100 kbp           0.00               \r\n"
     ]
    }
   ],
   "source": [
    "!cat bs_assembly_miniasm/report.txt"
   ]
  },
  {
   "cell_type": "code",
   "execution_count": 5,
   "metadata": {},
   "outputs": [],
   "source": [
    "!quast \\\n",
    "    -t 4 \\\n",
    "    --silent \\\n",
    "    -o bs_quast \\\n",
    "    --min-identity 80.0 \\\n",
    "    -r data/bacillus_subtilis/bs_ref.fasta \\\n",
    "    bs_assembly_miniasm.fasta \\\n",
    "    bs_assembly_miniasm_r4.fasta \\\n",
    "    consensus.fasta > err 2>&1\n",
    "\n",
    "#!cat bs_quast/report.txt"
   ]
  },
  {
   "cell_type": "code",
   "execution_count": 1,
   "metadata": {},
   "outputs": [
    {
     "ename": "FileNotFoundError",
     "evalue": "[Errno 2] No such file or directory: 'bs_quast/icarus.html'",
     "output_type": "error",
     "traceback": [
      "\u001b[0;31m---------------------------------------------------------------------------\u001b[0m",
      "\u001b[0;31mFileNotFoundError\u001b[0m                         Traceback (most recent call last)",
      "\u001b[0;32m<ipython-input-1-4c17cf5d1e1e>\u001b[0m in \u001b[0;36m<module>\u001b[0;34m\u001b[0m\n\u001b[1;32m      1\u001b[0m \u001b[0;32mfrom\u001b[0m \u001b[0mIPython\u001b[0m\u001b[0;34m.\u001b[0m\u001b[0mdisplay\u001b[0m \u001b[0;32mimport\u001b[0m \u001b[0mHTML\u001b[0m\u001b[0;34m\u001b[0m\u001b[0;34m\u001b[0m\u001b[0m\n\u001b[0;32m----> 2\u001b[0;31m \u001b[0mHTML\u001b[0m\u001b[0;34m(\u001b[0m\u001b[0mfilename\u001b[0m\u001b[0;34m=\u001b[0m\u001b[0;34m\"bs_quast/icarus.html\"\u001b[0m\u001b[0;34m)\u001b[0m\u001b[0;34m\u001b[0m\u001b[0;34m\u001b[0m\u001b[0m\n\u001b[0m",
      "\u001b[0;32m/opt/anaconda3/lib/python3.8/site-packages/IPython/core/display.py\u001b[0m in \u001b[0;36m__init__\u001b[0;34m(self, data, url, filename, metadata)\u001b[0m\n\u001b[1;32m    716\u001b[0m         \u001b[0;32mif\u001b[0m \u001b[0mwarn\u001b[0m\u001b[0;34m(\u001b[0m\u001b[0;34m)\u001b[0m\u001b[0;34m:\u001b[0m\u001b[0;34m\u001b[0m\u001b[0;34m\u001b[0m\u001b[0m\n\u001b[1;32m    717\u001b[0m             \u001b[0mwarnings\u001b[0m\u001b[0;34m.\u001b[0m\u001b[0mwarn\u001b[0m\u001b[0;34m(\u001b[0m\u001b[0;34m\"Consider using IPython.display.IFrame instead\"\u001b[0m\u001b[0;34m)\u001b[0m\u001b[0;34m\u001b[0m\u001b[0;34m\u001b[0m\u001b[0m\n\u001b[0;32m--> 718\u001b[0;31m         \u001b[0msuper\u001b[0m\u001b[0;34m(\u001b[0m\u001b[0mHTML\u001b[0m\u001b[0;34m,\u001b[0m \u001b[0mself\u001b[0m\u001b[0;34m)\u001b[0m\u001b[0;34m.\u001b[0m\u001b[0m__init__\u001b[0m\u001b[0;34m(\u001b[0m\u001b[0mdata\u001b[0m\u001b[0;34m=\u001b[0m\u001b[0mdata\u001b[0m\u001b[0;34m,\u001b[0m \u001b[0murl\u001b[0m\u001b[0;34m=\u001b[0m\u001b[0murl\u001b[0m\u001b[0;34m,\u001b[0m \u001b[0mfilename\u001b[0m\u001b[0;34m=\u001b[0m\u001b[0mfilename\u001b[0m\u001b[0;34m,\u001b[0m \u001b[0mmetadata\u001b[0m\u001b[0;34m=\u001b[0m\u001b[0mmetadata\u001b[0m\u001b[0;34m)\u001b[0m\u001b[0;34m\u001b[0m\u001b[0;34m\u001b[0m\u001b[0m\n\u001b[0m\u001b[1;32m    719\u001b[0m \u001b[0;34m\u001b[0m\u001b[0m\n\u001b[1;32m    720\u001b[0m     \u001b[0;32mdef\u001b[0m \u001b[0m_repr_html_\u001b[0m\u001b[0;34m(\u001b[0m\u001b[0mself\u001b[0m\u001b[0;34m)\u001b[0m\u001b[0;34m:\u001b[0m\u001b[0;34m\u001b[0m\u001b[0;34m\u001b[0m\u001b[0m\n",
      "\u001b[0;32m/opt/anaconda3/lib/python3.8/site-packages/IPython/core/display.py\u001b[0m in \u001b[0;36m__init__\u001b[0;34m(self, data, url, filename, metadata)\u001b[0m\n\u001b[1;32m    628\u001b[0m             \u001b[0mself\u001b[0m\u001b[0;34m.\u001b[0m\u001b[0mmetadata\u001b[0m \u001b[0;34m=\u001b[0m \u001b[0;34m{\u001b[0m\u001b[0;34m}\u001b[0m\u001b[0;34m\u001b[0m\u001b[0;34m\u001b[0m\u001b[0m\n\u001b[1;32m    629\u001b[0m \u001b[0;34m\u001b[0m\u001b[0m\n\u001b[0;32m--> 630\u001b[0;31m         \u001b[0mself\u001b[0m\u001b[0;34m.\u001b[0m\u001b[0mreload\u001b[0m\u001b[0;34m(\u001b[0m\u001b[0;34m)\u001b[0m\u001b[0;34m\u001b[0m\u001b[0;34m\u001b[0m\u001b[0m\n\u001b[0m\u001b[1;32m    631\u001b[0m         \u001b[0mself\u001b[0m\u001b[0;34m.\u001b[0m\u001b[0m_check_data\u001b[0m\u001b[0;34m(\u001b[0m\u001b[0;34m)\u001b[0m\u001b[0;34m\u001b[0m\u001b[0;34m\u001b[0m\u001b[0m\n\u001b[1;32m    632\u001b[0m \u001b[0;34m\u001b[0m\u001b[0m\n",
      "\u001b[0;32m/opt/anaconda3/lib/python3.8/site-packages/IPython/core/display.py\u001b[0m in \u001b[0;36mreload\u001b[0;34m(self)\u001b[0m\n\u001b[1;32m    653\u001b[0m         \u001b[0;34m\"\"\"Reload the raw data from file or URL.\"\"\"\u001b[0m\u001b[0;34m\u001b[0m\u001b[0;34m\u001b[0m\u001b[0m\n\u001b[1;32m    654\u001b[0m         \u001b[0;32mif\u001b[0m \u001b[0mself\u001b[0m\u001b[0;34m.\u001b[0m\u001b[0mfilename\u001b[0m \u001b[0;32mis\u001b[0m \u001b[0;32mnot\u001b[0m \u001b[0;32mNone\u001b[0m\u001b[0;34m:\u001b[0m\u001b[0;34m\u001b[0m\u001b[0;34m\u001b[0m\u001b[0m\n\u001b[0;32m--> 655\u001b[0;31m             \u001b[0;32mwith\u001b[0m \u001b[0mopen\u001b[0m\u001b[0;34m(\u001b[0m\u001b[0mself\u001b[0m\u001b[0;34m.\u001b[0m\u001b[0mfilename\u001b[0m\u001b[0;34m,\u001b[0m \u001b[0mself\u001b[0m\u001b[0;34m.\u001b[0m\u001b[0m_read_flags\u001b[0m\u001b[0;34m)\u001b[0m \u001b[0;32mas\u001b[0m \u001b[0mf\u001b[0m\u001b[0;34m:\u001b[0m\u001b[0;34m\u001b[0m\u001b[0;34m\u001b[0m\u001b[0m\n\u001b[0m\u001b[1;32m    656\u001b[0m                 \u001b[0mself\u001b[0m\u001b[0;34m.\u001b[0m\u001b[0mdata\u001b[0m \u001b[0;34m=\u001b[0m \u001b[0mf\u001b[0m\u001b[0;34m.\u001b[0m\u001b[0mread\u001b[0m\u001b[0;34m(\u001b[0m\u001b[0;34m)\u001b[0m\u001b[0;34m\u001b[0m\u001b[0;34m\u001b[0m\u001b[0m\n\u001b[1;32m    657\u001b[0m         \u001b[0;32melif\u001b[0m \u001b[0mself\u001b[0m\u001b[0;34m.\u001b[0m\u001b[0murl\u001b[0m \u001b[0;32mis\u001b[0m \u001b[0;32mnot\u001b[0m \u001b[0;32mNone\u001b[0m\u001b[0;34m:\u001b[0m\u001b[0;34m\u001b[0m\u001b[0;34m\u001b[0m\u001b[0m\n",
      "\u001b[0;31mFileNotFoundError\u001b[0m: [Errno 2] No such file or directory: 'bs_quast/icarus.html'"
     ]
    }
   ],
   "source": [
    "from IPython.display import HTML\n",
    "HTML(filename=\"bs_quast/icarus.html\")"
   ]
  },
  {
   "cell_type": "markdown",
   "metadata": {},
   "source": [
    "For a more detailed summary, you need to open the `report.pdf` file from `quast` output directory."
   ]
  },
  {
   "cell_type": "markdown",
   "metadata": {},
   "source": [
    "When we do not have a reference genome and are doing *de novo* assembly, we would also like to somehow evaluate our results. For chromosome coverage and fragmentation, we can use `quast` without the reference genome to see the value of the N50 meassure. For accuracy, we can try and translate our DNA to proteins and search a protein database for matches. If our assembly is full of insertions and deletions, the open reading frames could be shifted and the resulting proteins will be without matches in the database. Luckily, there are two tools that are doing exactly this."
   ]
  },
  {
   "cell_type": "markdown",
   "metadata": {},
   "source": [
    "# Quality assessment with BUSCO"
   ]
  },
  {
   "cell_type": "markdown",
   "metadata": {},
   "source": [
    "`Busco` assesses the assembly based on evolutionarily informed expectations of gene content. It searches for single copy orthologs in the determined lineage of the genome we sequenced and calculates the fractions of complete, fragmented and missing orthologs.\n",
    "\n",
    "On the other hand, `ideel` (indels are not ideal) is a pipeline which tranlates all proteins, searches for their the best match in a protein database and calculates the length ratio between each pair. Afterwards, it draws the histogram of length ratios which should have a peak at value $1$. Assemblies that have lots of errors will have many proteins that are truncated."
   ]
  },
  {
   "cell_type": "markdown",
   "metadata": {},
   "source": [
    "Let us first see how `busco` evaluates our `racon` polished assembly and the `medaka` polished assembly. You will need a `conda` environment with `busco` packaged installed.\n",
    "\n",
    "(see https://gitlab.com/ezlab/busco )."
   ]
  },
  {
   "cell_type": "code",
   "execution_count": 7,
   "metadata": {},
   "outputs": [
    {
     "name": "stdout",
     "output_type": "stream",
     "text": [
      "No module named 'busco'\r\n",
      "There was a problem installing BUSCO or importing one of its dependencies. See the user guide and the GitLab issue board (https://gitlab.com/ezlab/busco/issues) if you need further assistance.\r\n"
     ]
    }
   ],
   "source": [
    "!busco --help"
   ]
  },
  {
   "cell_type": "code",
   "execution_count": null,
   "metadata": {},
   "outputs": [],
   "source": [
    "!busco --list-datasets"
   ]
  },
  {
   "cell_type": "code",
   "execution_count": null,
   "metadata": {},
   "outputs": [],
   "source": [
    "!busco \\\n",
    "    -c 4 \\\n",
    "    -f \\\n",
    "    --quiet \\\n",
    "    -m genome \\\n",
    "    -l bacillales_odb10 \\\n",
    "    -o bs_miniasm_busco \\\n",
    "    -i bs_assembly_miniasm.fasta"
   ]
  },
  {
   "cell_type": "code",
   "execution_count": null,
   "metadata": {},
   "outputs": [],
   "source": [
    "!busco \\\n",
    "    -c 4 \\\n",
    "    -f \\\n",
    "    --quiet \\\n",
    "    -m genome \\\n",
    "    -l bacillales_odb10 \\\n",
    "    -o bs_miniasm_r4_busco \\\n",
    "    -i bs_assembly_miniasm_r4.fasta"
   ]
  },
  {
   "cell_type": "code",
   "execution_count": null,
   "metadata": {},
   "outputs": [],
   "source": [
    "!busco \\\n",
    "    -c 4 \\\n",
    "    -f \\\n",
    "    --quiet \\\n",
    "    -m genome \\\n",
    "    -l bacillales_odb10 \\\n",
    "    -o bs_consensus_busco \\\n",
    "    -i consensus.fasta"
   ]
  },
  {
   "cell_type": "code",
   "execution_count": null,
   "metadata": {},
   "outputs": [],
   "source": [
    "Put all files called \"short summary\" in a same directory (my_summaries)"
   ]
  },
  {
   "cell_type": "code",
   "execution_count": null,
   "metadata": {},
   "outputs": [],
   "source": [
    "!generate_plot.py -wd my_summaries"
   ]
  },
  {
   "cell_type": "code",
   "execution_count": 8,
   "metadata": {},
   "outputs": [
    {
     "ename": "FileNotFoundError",
     "evalue": "No such file or directory: 'my_summaries/busco_figure.png'",
     "output_type": "error",
     "traceback": [
      "\u001b[0;31m---------------------------------------------------------------------------\u001b[0m",
      "\u001b[0;31mTypeError\u001b[0m                                 Traceback (most recent call last)",
      "\u001b[0;32m/opt/anaconda3/envs/curso_5/lib/python3.7/site-packages/IPython/core/display.py\u001b[0m in \u001b[0;36m_data_and_metadata\u001b[0;34m(self, always_both)\u001b[0m\n\u001b[1;32m   1299\u001b[0m         \u001b[0;32mtry\u001b[0m\u001b[0;34m:\u001b[0m\u001b[0;34m\u001b[0m\u001b[0;34m\u001b[0m\u001b[0m\n\u001b[0;32m-> 1300\u001b[0;31m             \u001b[0mb64_data\u001b[0m \u001b[0;34m=\u001b[0m \u001b[0mb2a_base64\u001b[0m\u001b[0;34m(\u001b[0m\u001b[0mself\u001b[0m\u001b[0;34m.\u001b[0m\u001b[0mdata\u001b[0m\u001b[0;34m)\u001b[0m\u001b[0;34m.\u001b[0m\u001b[0mdecode\u001b[0m\u001b[0;34m(\u001b[0m\u001b[0;34m'ascii'\u001b[0m\u001b[0;34m)\u001b[0m\u001b[0;34m\u001b[0m\u001b[0;34m\u001b[0m\u001b[0m\n\u001b[0m\u001b[1;32m   1301\u001b[0m         \u001b[0;32mexcept\u001b[0m \u001b[0mTypeError\u001b[0m\u001b[0;34m:\u001b[0m\u001b[0;34m\u001b[0m\u001b[0;34m\u001b[0m\u001b[0m\n",
      "\u001b[0;31mTypeError\u001b[0m: a bytes-like object is required, not 'str'",
      "\nDuring handling of the above exception, another exception occurred:\n",
      "\u001b[0;31mFileNotFoundError\u001b[0m                         Traceback (most recent call last)",
      "\u001b[0;32m/opt/anaconda3/envs/curso_5/lib/python3.7/site-packages/IPython/core/formatters.py\u001b[0m in \u001b[0;36m__call__\u001b[0;34m(self, obj, include, exclude)\u001b[0m\n\u001b[1;32m    968\u001b[0m \u001b[0;34m\u001b[0m\u001b[0m\n\u001b[1;32m    969\u001b[0m             \u001b[0;32mif\u001b[0m \u001b[0mmethod\u001b[0m \u001b[0;32mis\u001b[0m \u001b[0;32mnot\u001b[0m \u001b[0;32mNone\u001b[0m\u001b[0;34m:\u001b[0m\u001b[0;34m\u001b[0m\u001b[0;34m\u001b[0m\u001b[0m\n\u001b[0;32m--> 970\u001b[0;31m                 \u001b[0;32mreturn\u001b[0m \u001b[0mmethod\u001b[0m\u001b[0;34m(\u001b[0m\u001b[0minclude\u001b[0m\u001b[0;34m=\u001b[0m\u001b[0minclude\u001b[0m\u001b[0;34m,\u001b[0m \u001b[0mexclude\u001b[0m\u001b[0;34m=\u001b[0m\u001b[0mexclude\u001b[0m\u001b[0;34m)\u001b[0m\u001b[0;34m\u001b[0m\u001b[0;34m\u001b[0m\u001b[0m\n\u001b[0m\u001b[1;32m    971\u001b[0m             \u001b[0;32mreturn\u001b[0m \u001b[0;32mNone\u001b[0m\u001b[0;34m\u001b[0m\u001b[0;34m\u001b[0m\u001b[0m\n\u001b[1;32m    972\u001b[0m         \u001b[0;32melse\u001b[0m\u001b[0;34m:\u001b[0m\u001b[0;34m\u001b[0m\u001b[0;34m\u001b[0m\u001b[0m\n",
      "\u001b[0;32m/opt/anaconda3/envs/curso_5/lib/python3.7/site-packages/IPython/core/display.py\u001b[0m in \u001b[0;36m_repr_mimebundle_\u001b[0;34m(self, include, exclude)\u001b[0m\n\u001b[1;32m   1288\u001b[0m         \u001b[0;32mif\u001b[0m \u001b[0mself\u001b[0m\u001b[0;34m.\u001b[0m\u001b[0membed\u001b[0m\u001b[0;34m:\u001b[0m\u001b[0;34m\u001b[0m\u001b[0;34m\u001b[0m\u001b[0m\n\u001b[1;32m   1289\u001b[0m             \u001b[0mmimetype\u001b[0m \u001b[0;34m=\u001b[0m \u001b[0mself\u001b[0m\u001b[0;34m.\u001b[0m\u001b[0m_mimetype\u001b[0m\u001b[0;34m\u001b[0m\u001b[0;34m\u001b[0m\u001b[0m\n\u001b[0;32m-> 1290\u001b[0;31m             \u001b[0mdata\u001b[0m\u001b[0;34m,\u001b[0m \u001b[0mmetadata\u001b[0m \u001b[0;34m=\u001b[0m \u001b[0mself\u001b[0m\u001b[0;34m.\u001b[0m\u001b[0m_data_and_metadata\u001b[0m\u001b[0;34m(\u001b[0m\u001b[0malways_both\u001b[0m\u001b[0;34m=\u001b[0m\u001b[0;32mTrue\u001b[0m\u001b[0;34m)\u001b[0m\u001b[0;34m\u001b[0m\u001b[0;34m\u001b[0m\u001b[0m\n\u001b[0m\u001b[1;32m   1291\u001b[0m             \u001b[0;32mif\u001b[0m \u001b[0mmetadata\u001b[0m\u001b[0;34m:\u001b[0m\u001b[0;34m\u001b[0m\u001b[0;34m\u001b[0m\u001b[0m\n\u001b[1;32m   1292\u001b[0m                 \u001b[0mmetadata\u001b[0m \u001b[0;34m=\u001b[0m \u001b[0;34m{\u001b[0m\u001b[0mmimetype\u001b[0m\u001b[0;34m:\u001b[0m \u001b[0mmetadata\u001b[0m\u001b[0;34m}\u001b[0m\u001b[0;34m\u001b[0m\u001b[0;34m\u001b[0m\u001b[0m\n",
      "\u001b[0;32m/opt/anaconda3/envs/curso_5/lib/python3.7/site-packages/IPython/core/display.py\u001b[0m in \u001b[0;36m_data_and_metadata\u001b[0;34m(self, always_both)\u001b[0m\n\u001b[1;32m   1301\u001b[0m         \u001b[0;32mexcept\u001b[0m \u001b[0mTypeError\u001b[0m\u001b[0;34m:\u001b[0m\u001b[0;34m\u001b[0m\u001b[0;34m\u001b[0m\u001b[0m\n\u001b[1;32m   1302\u001b[0m             raise FileNotFoundError(\n\u001b[0;32m-> 1303\u001b[0;31m                 \"No such file or directory: '%s'\" % (self.data))\n\u001b[0m\u001b[1;32m   1304\u001b[0m         \u001b[0mmd\u001b[0m \u001b[0;34m=\u001b[0m \u001b[0;34m{\u001b[0m\u001b[0;34m}\u001b[0m\u001b[0;34m\u001b[0m\u001b[0;34m\u001b[0m\u001b[0m\n\u001b[1;32m   1305\u001b[0m         \u001b[0;32mif\u001b[0m \u001b[0mself\u001b[0m\u001b[0;34m.\u001b[0m\u001b[0mmetadata\u001b[0m\u001b[0;34m:\u001b[0m\u001b[0;34m\u001b[0m\u001b[0;34m\u001b[0m\u001b[0m\n",
      "\u001b[0;31mFileNotFoundError\u001b[0m: No such file or directory: 'my_summaries/busco_figure.png'"
     ]
    },
    {
     "ename": "FileNotFoundError",
     "evalue": "No such file or directory: 'my_summaries/busco_figure.png'",
     "output_type": "error",
     "traceback": [
      "\u001b[0;31m---------------------------------------------------------------------------\u001b[0m",
      "\u001b[0;31mTypeError\u001b[0m                                 Traceback (most recent call last)",
      "\u001b[0;32m/opt/anaconda3/envs/curso_5/lib/python3.7/site-packages/IPython/core/display.py\u001b[0m in \u001b[0;36m_data_and_metadata\u001b[0;34m(self, always_both)\u001b[0m\n\u001b[1;32m   1299\u001b[0m         \u001b[0;32mtry\u001b[0m\u001b[0;34m:\u001b[0m\u001b[0;34m\u001b[0m\u001b[0;34m\u001b[0m\u001b[0m\n\u001b[0;32m-> 1300\u001b[0;31m             \u001b[0mb64_data\u001b[0m \u001b[0;34m=\u001b[0m \u001b[0mb2a_base64\u001b[0m\u001b[0;34m(\u001b[0m\u001b[0mself\u001b[0m\u001b[0;34m.\u001b[0m\u001b[0mdata\u001b[0m\u001b[0;34m)\u001b[0m\u001b[0;34m.\u001b[0m\u001b[0mdecode\u001b[0m\u001b[0;34m(\u001b[0m\u001b[0;34m'ascii'\u001b[0m\u001b[0;34m)\u001b[0m\u001b[0;34m\u001b[0m\u001b[0;34m\u001b[0m\u001b[0m\n\u001b[0m\u001b[1;32m   1301\u001b[0m         \u001b[0;32mexcept\u001b[0m \u001b[0mTypeError\u001b[0m\u001b[0;34m:\u001b[0m\u001b[0;34m\u001b[0m\u001b[0;34m\u001b[0m\u001b[0m\n",
      "\u001b[0;31mTypeError\u001b[0m: a bytes-like object is required, not 'str'",
      "\nDuring handling of the above exception, another exception occurred:\n",
      "\u001b[0;31mFileNotFoundError\u001b[0m                         Traceback (most recent call last)",
      "\u001b[0;32m/opt/anaconda3/envs/curso_5/lib/python3.7/site-packages/IPython/core/formatters.py\u001b[0m in \u001b[0;36m__call__\u001b[0;34m(self, obj)\u001b[0m\n\u001b[1;32m    343\u001b[0m             \u001b[0mmethod\u001b[0m \u001b[0;34m=\u001b[0m \u001b[0mget_real_method\u001b[0m\u001b[0;34m(\u001b[0m\u001b[0mobj\u001b[0m\u001b[0;34m,\u001b[0m \u001b[0mself\u001b[0m\u001b[0;34m.\u001b[0m\u001b[0mprint_method\u001b[0m\u001b[0;34m)\u001b[0m\u001b[0;34m\u001b[0m\u001b[0;34m\u001b[0m\u001b[0m\n\u001b[1;32m    344\u001b[0m             \u001b[0;32mif\u001b[0m \u001b[0mmethod\u001b[0m \u001b[0;32mis\u001b[0m \u001b[0;32mnot\u001b[0m \u001b[0;32mNone\u001b[0m\u001b[0;34m:\u001b[0m\u001b[0;34m\u001b[0m\u001b[0;34m\u001b[0m\u001b[0m\n\u001b[0;32m--> 345\u001b[0;31m                 \u001b[0;32mreturn\u001b[0m \u001b[0mmethod\u001b[0m\u001b[0;34m(\u001b[0m\u001b[0;34m)\u001b[0m\u001b[0;34m\u001b[0m\u001b[0;34m\u001b[0m\u001b[0m\n\u001b[0m\u001b[1;32m    346\u001b[0m             \u001b[0;32mreturn\u001b[0m \u001b[0;32mNone\u001b[0m\u001b[0;34m\u001b[0m\u001b[0;34m\u001b[0m\u001b[0m\n\u001b[1;32m    347\u001b[0m         \u001b[0;32melse\u001b[0m\u001b[0;34m:\u001b[0m\u001b[0;34m\u001b[0m\u001b[0;34m\u001b[0m\u001b[0m\n",
      "\u001b[0;32m/opt/anaconda3/envs/curso_5/lib/python3.7/site-packages/IPython/core/display.py\u001b[0m in \u001b[0;36m_repr_png_\u001b[0;34m(self)\u001b[0m\n\u001b[1;32m   1318\u001b[0m     \u001b[0;32mdef\u001b[0m \u001b[0m_repr_png_\u001b[0m\u001b[0;34m(\u001b[0m\u001b[0mself\u001b[0m\u001b[0;34m)\u001b[0m\u001b[0;34m:\u001b[0m\u001b[0;34m\u001b[0m\u001b[0;34m\u001b[0m\u001b[0m\n\u001b[1;32m   1319\u001b[0m         \u001b[0;32mif\u001b[0m \u001b[0mself\u001b[0m\u001b[0;34m.\u001b[0m\u001b[0membed\u001b[0m \u001b[0;32mand\u001b[0m \u001b[0mself\u001b[0m\u001b[0;34m.\u001b[0m\u001b[0mformat\u001b[0m \u001b[0;34m==\u001b[0m \u001b[0mself\u001b[0m\u001b[0;34m.\u001b[0m\u001b[0m_FMT_PNG\u001b[0m\u001b[0;34m:\u001b[0m\u001b[0;34m\u001b[0m\u001b[0;34m\u001b[0m\u001b[0m\n\u001b[0;32m-> 1320\u001b[0;31m             \u001b[0;32mreturn\u001b[0m \u001b[0mself\u001b[0m\u001b[0;34m.\u001b[0m\u001b[0m_data_and_metadata\u001b[0m\u001b[0;34m(\u001b[0m\u001b[0;34m)\u001b[0m\u001b[0;34m\u001b[0m\u001b[0;34m\u001b[0m\u001b[0m\n\u001b[0m\u001b[1;32m   1321\u001b[0m \u001b[0;34m\u001b[0m\u001b[0m\n\u001b[1;32m   1322\u001b[0m     \u001b[0;32mdef\u001b[0m \u001b[0m_repr_jpeg_\u001b[0m\u001b[0;34m(\u001b[0m\u001b[0mself\u001b[0m\u001b[0;34m)\u001b[0m\u001b[0;34m:\u001b[0m\u001b[0;34m\u001b[0m\u001b[0;34m\u001b[0m\u001b[0m\n",
      "\u001b[0;32m/opt/anaconda3/envs/curso_5/lib/python3.7/site-packages/IPython/core/display.py\u001b[0m in \u001b[0;36m_data_and_metadata\u001b[0;34m(self, always_both)\u001b[0m\n\u001b[1;32m   1301\u001b[0m         \u001b[0;32mexcept\u001b[0m \u001b[0mTypeError\u001b[0m\u001b[0;34m:\u001b[0m\u001b[0;34m\u001b[0m\u001b[0;34m\u001b[0m\u001b[0m\n\u001b[1;32m   1302\u001b[0m             raise FileNotFoundError(\n\u001b[0;32m-> 1303\u001b[0;31m                 \"No such file or directory: '%s'\" % (self.data))\n\u001b[0m\u001b[1;32m   1304\u001b[0m         \u001b[0mmd\u001b[0m \u001b[0;34m=\u001b[0m \u001b[0;34m{\u001b[0m\u001b[0;34m}\u001b[0m\u001b[0;34m\u001b[0m\u001b[0;34m\u001b[0m\u001b[0m\n\u001b[1;32m   1305\u001b[0m         \u001b[0;32mif\u001b[0m \u001b[0mself\u001b[0m\u001b[0;34m.\u001b[0m\u001b[0mmetadata\u001b[0m\u001b[0;34m:\u001b[0m\u001b[0;34m\u001b[0m\u001b[0;34m\u001b[0m\u001b[0m\n",
      "\u001b[0;31mFileNotFoundError\u001b[0m: No such file or directory: 'my_summaries/busco_figure.png'"
     ]
    },
    {
     "data": {
      "text/plain": [
       "<IPython.core.display.Image object>"
      ]
     },
     "execution_count": 8,
     "metadata": {},
     "output_type": "execute_result"
    }
   ],
   "source": [
    "from IPython.display import Image\n",
    "Image(\"my_summaries/busco_figure.png\")"
   ]
  },
  {
   "cell_type": "markdown",
   "metadata": {},
   "source": [
    "# Others tools"
   ]
  },
  {
   "cell_type": "markdown",
   "metadata": {},
   "source": [
    "**Ideel**"
   ]
  },
  {
   "cell_type": "markdown",
   "metadata": {},
   "source": [
    "`ideel` looks for indels. First we need to download a protein database. Usually it is the TrEMBL database, but for our purposes we will be using the much smaller one called Swiss-Prot. Run the below cell to set everything up before we can run `ideel`.  \n",
    "You will need a `conda` environment with the following packages installed: `snakemake`, `diamond`, `prodigal` and `r`.\n",
    "\n",
    "(see https://github.com/phiweger/ideel)"
   ]
  },
  {
   "cell_type": "markdown",
   "metadata": {},
   "source": [
    "**YAK**"
   ]
  },
  {
   "cell_type": "markdown",
   "metadata": {},
   "source": [
    "If we by any chance have short accurate reads of the same genome, we can use Yet another k-mer analyzer. Without the need of a reference genome, it creates a 31-mer histogram from the accurate data and compares it with the assembly k-mers to calculate the base accuracy (in form of Phred score). \n",
    "(see https://github.com/lh3/yak)"
   ]
  }
 ],
 "metadata": {
  "kernelspec": {
   "display_name": "Python 3",
   "language": "python",
   "name": "python3"
  },
  "language_info": {
   "codemirror_mode": {
    "name": "ipython",
    "version": 3
   },
   "file_extension": ".py",
   "mimetype": "text/x-python",
   "name": "python",
   "nbconvert_exporter": "python",
   "pygments_lexer": "ipython3",
   "version": "3.8.8"
  }
 },
 "nbformat": 4,
 "nbformat_minor": 4
}
